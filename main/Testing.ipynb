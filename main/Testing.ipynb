{
 "cells": [
  {
   "cell_type": "code",
   "execution_count": 1,
   "metadata": {
    "collapsed": true
   },
   "outputs": [],
   "source": [
    "import sys\n",
    "sys.path.append(\"../src/\")\n",
    "from loss_function import loss_function\n",
    "from loss_function import cs\n",
    "from torch.autograd import Variable\n",
    "from evaluate import Evaluation\n",
    "from cnn import CNN\n",
    "import torch\n",
    "import torch.nn as nn\n",
    "import torch.nn.functional as F\n",
    "import numpy as np\n",
    "import sklearn\n",
    "import random\n",
    "import time"
   ]
  },
  {
   "cell_type": "code",
   "execution_count": 2,
   "metadata": {},
   "outputs": [],
   "source": [
    "import data_reader as dr"
   ]
  },
  {
   "cell_type": "code",
   "execution_count": 3,
   "metadata": {
    "collapsed": true
   },
   "outputs": [],
   "source": [
    "corpus_path = \"../data/text_tokenized.txt.gz\"\n",
    "corpus = dr.read_corpus(corpus_path)"
   ]
  },
  {
   "cell_type": "code",
   "execution_count": 4,
   "metadata": {},
   "outputs": [],
   "source": [
    "embedding_path = \"../data/vectors_pruned.200.txt.gz\"\n",
    "embedding_tensor, word_to_indx = dr.getEmbeddingTensor(embedding_path)"
   ]
  },
  {
   "cell_type": "code",
   "execution_count": 5,
   "metadata": {},
   "outputs": [],
   "source": [
    "ids_corpus = dr.map_corpus(corpus, word_to_indx)"
   ]
  },
  {
   "cell_type": "code",
   "execution_count": 6,
   "metadata": {
    "collapsed": true
   },
   "outputs": [],
   "source": [
    "train_path = \"../data/train_random.txt\"\n",
    "train = dr.read_annotations(train_path)"
   ]
  },
  {
   "cell_type": "code",
   "execution_count": 7,
   "metadata": {
    "collapsed": true
   },
   "outputs": [],
   "source": [
    "train_ex = dr.create_train_set(ids_corpus, train)"
   ]
  },
  {
   "cell_type": "code",
   "execution_count": 52,
   "metadata": {
    "collapsed": true
   },
   "outputs": [],
   "source": [
    "import torch.utils.data\n",
    "\n",
    "def train_model(train_data, dev_data, model):\n",
    "    model.cuda()\n",
    "    optimizer = torch.optim.Adam(model.parameters(), lr=0.0001)\n",
    "    model.train()\n",
    "\n",
    "    lasttime = time.time()\n",
    "    for epoch in range(1, 11):\n",
    "        print(\"-------------\\nEpoch {}:\\n\".format(epoch))\n",
    "\n",
    "        loss = run_epoch(train_data, True, model, optimizer)\n",
    "        #return loss\n",
    "        print('Train loss: {:.6f}'.format(loss))\n",
    "        torch.save(model, \"model{}\".format(epoch))\n",
    "        \n",
    "        (MAP, MRR, P1, P5) = run_epoch(dev_data, False, model, optimizer)\n",
    "        print('Val MAP: {:.6f}, MRR: {:.6f}, P1: {:.6f}, P5: {:.6f}'.format(MAP, MRR, P1, P5))\n",
    "        \n",
    "        print('This epoch took: {:.6f}'.format(time.time() - lasttime))\n",
    "        lasttime = time.time()\n",
    "\n",
    "        \n",
    "def run_epoch(data, is_training, model, optimizer):\n",
    "    '''\n",
    "    Train model for one pass of train data, and return loss, acccuracy\n",
    "    '''\n",
    "    data_loader = torch.utils.data.DataLoader(\n",
    "        data,\n",
    "        batch_size=40,\n",
    "        shuffle=True,\n",
    "        num_workers=4,\n",
    "        drop_last=False)\n",
    "\n",
    "    losses = []\n",
    "\n",
    "    if is_training:\n",
    "        model.train()\n",
    "    else:\n",
    "        model.eval()\n",
    "\n",
    "    for batch in data_loader:\n",
    "        pid_title = torch.unsqueeze(Variable(batch['pid_title']), 1)\n",
    "        pid_body = torch.unsqueeze(Variable(batch['pid_body']), 1)\n",
    "        rest_title = Variable(batch['rest_title'])\n",
    "        rest_body = Variable(batch['rest_body'])\n",
    "        \n",
    "        pid_title_pad = torch.unsqueeze(Variable(batch['pid_title_pad']), 1)\n",
    "        pid_body_pad = torch.unsqueeze(Variable(batch['pid_body_pad']), 1)\n",
    "        rest_title_pad = Variable(batch['rest_title_pad'])\n",
    "        rest_body_pad = Variable(batch['rest_body_pad'])\n",
    "        \n",
    "        pid_title, pid_body = pid_title.cuda(), pid_body.cuda()\n",
    "        rest_title, rest_body = rest_title.cuda(), rest_body.cuda()\n",
    "        pid_title_pad, pid_body_pad = pid_title_pad.cuda(), pid_body_pad.cuda()\n",
    "        rest_title_pad, rest_body_pad = rest_title_pad.cuda(), rest_body_pad.cuda()\n",
    "        \n",
    "        if is_training:\n",
    "            optimizer.zero_grad()\n",
    "        \n",
    "        pt = model(pid_title)\n",
    "        pb = model(pid_body)\n",
    "        rt = model(rest_title)\n",
    "        rb = model(rest_body)\n",
    "        \n",
    "        # we need to take the mean pooling taking into account the padding\n",
    "        # tensors are of dim batch_size x samples x output_size x (len - kernel + 1)\n",
    "        # pad tensors are of dim batch_size x samples x (len - kernel + 1)\n",
    "        \n",
    "        pid_title_pad_ex = torch.unsqueeze(pid_title_pad, 2).expand_as(pt)\n",
    "        pid_body_pad_ex = torch.unsqueeze(pid_body_pad, 2).expand_as(pb)\n",
    "        rest_title_pad_ex = torch.unsqueeze(rest_title_pad, 2).expand_as(rt)\n",
    "        rest_body_pad_ex = torch.unsqueeze(rest_body_pad, 2).expand_as(rb)\n",
    "        \n",
    "        pt = torch.squeeze(torch.sum(pt * pid_title_pad_ex, dim = 3), dim = 3)\n",
    "        pb = torch.squeeze(torch.sum(pb * pid_body_pad_ex, dim = 3), dim = 3)\n",
    "        rt = torch.squeeze(torch.sum(rt * rest_title_pad_ex, dim = 3), dim = 3)\n",
    "        rb = torch.squeeze(torch.sum(rb * rest_body_pad_ex, dim = 3), dim = 3)\n",
    "\n",
    "        # tensors are not of dim batch_size x samples x output_size\n",
    "        # need to scale down because not all uniformly padded\n",
    "        \n",
    "        ptp_norm = torch.sum(pid_title_pad, dim = 2).clamp(min = 1).expand_as(pt)\n",
    "        pbp_norm = torch.sum(pid_body_pad, dim = 2).clamp(min = 1).expand_as(pb)\n",
    "        rtp_norm = torch.sum(rest_title_pad, dim = 2).clamp(min = 1).expand_as(rt)\n",
    "        rbp_norm = torch.sum(rest_body_pad, dim = 2).clamp(min = 1).expand_as(rb)\n",
    "        \n",
    "        pt = pt / ptp_norm\n",
    "        pb = pb / pbp_norm\n",
    "        rt = rt / rtp_norm\n",
    "        rb = rb / rbp_norm\n",
    "        \n",
    "        pid_tensor = (pt + pb)/2\n",
    "        rest_tensor = (rt + rb)/2\n",
    "        #pid_tensor = pb\n",
    "        #rest_tensor = rb\n",
    "        \n",
    "        if is_training:\n",
    "            loss = loss_function(pid_tensor, rest_tensor, margin = 0.2)\n",
    "            loss.backward()\n",
    "            losses.append(loss.cpu().data[0])\n",
    "            optimizer.step()\n",
    "        else:\n",
    "            expanded = pid_tensor.expand_as(rest_tensor)\n",
    "            similarity = cs(expanded, rest_tensor, dim=2).squeeze(2)\n",
    "            similarity = similarity.data.cpu().numpy()\n",
    "            labels = batch['labels'].numpy()\n",
    "            l = dr.convert(similarity, labels)\n",
    "            losses.extend(l)\n",
    "\n",
    "    # Calculate epoch level scores\n",
    "    if is_training:\n",
    "        avg_loss = np.mean(losses)\n",
    "        return avg_loss\n",
    "    else:\n",
    "        e = Evaluation(losses)\n",
    "        MAP = e.MAP()*100\n",
    "        MRR = e.MRR()*100\n",
    "        P1 = e.Precision(1)*100\n",
    "        P5 = e.Precision(5)*100\n",
    "        return (MAP, MRR, P1, P5)"
   ]
  },
  {
   "cell_type": "code",
   "execution_count": 59,
   "metadata": {},
   "outputs": [],
   "source": [
    "model = CNN(700, 3, embedding_tensor)"
   ]
  },
  {
   "cell_type": "code",
   "execution_count": 60,
   "metadata": {},
   "outputs": [],
   "source": [
    "val_path = \"../data/test.txt\"\n",
    "val = dr.read_annotations(val_path, K_neg = -1, prune_pos_cnt = -1)\n",
    "val_ex = dr.create_dev_set(ids_corpus, val)"
   ]
  },
  {
   "cell_type": "code",
   "execution_count": 61,
   "metadata": {
    "scrolled": true
   },
   "outputs": [
    {
     "name": "stdout",
     "output_type": "stream",
     "text": [
      "-------------\n",
      "Epoch 1:\n",
      "\n",
      "Train loss: 0.134464\n",
      "Val MAP: 54.621934, MRR: 68.544067, P1: 55.376344, P5: 41.827957\n",
      "This epoch took: 86.605695\n",
      "-------------\n",
      "Epoch 2:\n",
      "\n",
      "Train loss: 0.064663\n",
      "Val MAP: 54.062740, MRR: 67.460312, P1: 53.763441, P5: 42.580645\n",
      "This epoch took: 86.526572\n",
      "-------------\n",
      "Epoch 3:\n",
      "\n",
      "Train loss: 0.041366\n",
      "Val MAP: 54.520490, MRR: 67.550327, P1: 53.225806, P5: 42.473118\n",
      "This epoch took: 86.589065\n",
      "-------------\n",
      "Epoch 4:\n",
      "\n",
      "Train loss: 0.027097\n",
      "Val MAP: 55.060882, MRR: 69.028646, P1: 55.376344, P5: 42.150538\n",
      "This epoch took: 86.531316\n",
      "-------------\n",
      "Epoch 5:\n",
      "\n",
      "Train loss: 0.018154\n",
      "Val MAP: 55.287658, MRR: 69.060249, P1: 55.913978, P5: 43.118280\n",
      "This epoch took: 86.441439\n",
      "-------------\n",
      "Epoch 6:\n",
      "\n",
      "Train loss: 0.012213\n",
      "Val MAP: 55.436991, MRR: 68.338148, P1: 53.763441, P5: 42.365591\n",
      "This epoch took: 86.455577\n",
      "-------------\n",
      "Epoch 7:\n",
      "\n",
      "Train loss: 0.008199\n",
      "Val MAP: 55.487080, MRR: 68.252452, P1: 53.763441, P5: 43.440860\n",
      "This epoch took: 86.426948\n",
      "-------------\n",
      "Epoch 8:\n",
      "\n",
      "Train loss: 0.005664\n",
      "Val MAP: 55.563049, MRR: 68.341242, P1: 54.301075, P5: 42.365591\n",
      "This epoch took: 86.420949\n",
      "-------------\n",
      "Epoch 9:\n",
      "\n",
      "Train loss: 0.003909\n",
      "Val MAP: 55.262345, MRR: 68.691684, P1: 54.301075, P5: 42.688172\n",
      "This epoch took: 86.398661\n",
      "-------------\n",
      "Epoch 10:\n",
      "\n",
      "Train loss: 0.002769\n",
      "Val MAP: 55.825011, MRR: 68.853199, P1: 54.838710, P5: 43.010753\n",
      "This epoch took: 86.397051\n"
     ]
    }
   ],
   "source": [
    "z = train_model(train_ex, val_ex, model)"
   ]
  },
  {
   "cell_type": "code",
   "execution_count": 64,
   "metadata": {},
   "outputs": [],
   "source": [
    "model = torch.load(\"model5\")\n",
    "real_val_path = \"../data/dev.txt\"\n",
    "real_val = dr.read_annotations(real_val_path, K_neg = -1, prune_pos_cnt = -1)\n",
    "real_val_ex = dr.create_dev_set(ids_corpus, real_val)\n",
    "model = model.cuda()\n",
    "z = run_epoch(real_val_ex, False, model, None)"
   ]
  },
  {
   "cell_type": "code",
   "execution_count": 65,
   "metadata": {},
   "outputs": [
    {
     "data": {
      "text/plain": [
       "(55.21228806480822, 67.10418592888246, 53.96825396825397, 45.714285714285744)"
      ]
     },
     "execution_count": 65,
     "metadata": {},
     "output_type": "execute_result"
    }
   ],
   "source": [
    "z"
   ]
  },
  {
   "cell_type": "code",
   "execution_count": null,
   "metadata": {
    "collapsed": true
   },
   "outputs": [],
   "source": []
  }
 ],
 "metadata": {
  "kernelspec": {
   "display_name": "Python 3",
   "language": "python",
   "name": "python3"
  },
  "language_info": {
   "codemirror_mode": {
    "name": "ipython",
    "version": 3
   },
   "file_extension": ".py",
   "mimetype": "text/x-python",
   "name": "python",
   "nbconvert_exporter": "python",
   "pygments_lexer": "ipython3",
   "version": "3.6.2"
  }
 },
 "nbformat": 4,
 "nbformat_minor": 2
}
