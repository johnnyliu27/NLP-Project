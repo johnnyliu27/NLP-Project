{
 "cells": [
  {
   "cell_type": "code",
   "execution_count": 1,
   "metadata": {
    "collapsed": true
   },
   "outputs": [],
   "source": [
    "import sys\n",
    "sys.path.append(\"../src/\")\n",
    "from loss_function import loss_function\n",
    "from loss_function import cs\n",
    "from torch.autograd import Variable\n",
    "from evaluate import Evaluation\n",
    "from cnn import CNN\n",
    "import torch\n",
    "import torch.nn as nn\n",
    "import torch.nn.functional as F\n",
    "import numpy as np\n",
    "import sklearn\n",
    "import random\n",
    "import time"
   ]
  },
  {
   "cell_type": "code",
   "execution_count": 2,
   "metadata": {
    "collapsed": true
   },
   "outputs": [],
   "source": [
    "import data_reader as dr"
   ]
  },
  {
   "cell_type": "code",
   "execution_count": 3,
   "metadata": {
    "collapsed": true
   },
   "outputs": [],
   "source": [
    "corpus_path = \"../data/text_tokenized.txt.gz\"\n",
    "corpus = dr.read_corpus(corpus_path)"
   ]
  },
  {
   "cell_type": "code",
   "execution_count": 4,
   "metadata": {
    "collapsed": true
   },
   "outputs": [],
   "source": [
    "embedding_path = \"../data/vectors_pruned.200.txt.gz\"\n",
    "embedding_tensor, word_to_indx = dr.getEmbeddingTensor(embedding_path)"
   ]
  },
  {
   "cell_type": "code",
   "execution_count": 5,
   "metadata": {
    "collapsed": true
   },
   "outputs": [],
   "source": [
    "ids_corpus = dr.map_corpus(corpus, word_to_indx)"
   ]
  },
  {
   "cell_type": "code",
   "execution_count": 6,
   "metadata": {
    "collapsed": true
   },
   "outputs": [],
   "source": [
    "train_path = \"../data/train_random.txt\"\n",
    "train = dr.read_annotations(train_path)"
   ]
  },
  {
   "cell_type": "code",
   "execution_count": 7,
   "metadata": {
    "collapsed": true
   },
   "outputs": [],
   "source": [
    "train_ex = dr.create_train_set(ids_corpus, train)"
   ]
  },
  {
   "cell_type": "code",
   "execution_count": 8,
   "metadata": {
    "collapsed": true
   },
   "outputs": [],
   "source": [
    "import torch.utils.data\n",
    "\n",
    "def train_model(train_data, dev_data, model):\n",
    "    model.cuda()\n",
    "    optimizer = torch.optim.Adam(model.parameters(), lr=0.0001)\n",
    "    model.train()\n",
    "\n",
    "    lasttime = time.time()\n",
    "    for epoch in range(1, 11):\n",
    "        print(\"-------------\\nEpoch {}:\\n\".format(epoch))\n",
    "\n",
    "        loss = run_epoch(train_data, True, model, optimizer)\n",
    "        #return loss\n",
    "        print('Train loss: {:.6f}'.format(loss))\n",
    "        torch.save(model, \"model{}\".format(epoch))\n",
    "        \n",
    "        (MAP, MRR, P1, P5) = run_epoch(dev_data, False, model, optimizer)\n",
    "        print('Val MAP: {:.6f}, MRR: {:.6f}, P1: {:.6f}, P5: {:.6f}'.format(MAP, MRR, P1, P5))\n",
    "        \n",
    "        print('This epoch took: {:.6f}'.format(time.time() - lasttime))\n",
    "        lasttime = time.time()\n",
    "\n",
    "        \n",
    "def run_epoch(data, is_training, model, optimizer):\n",
    "    '''\n",
    "    Train model for one pass of train data, and return loss, acccuracy\n",
    "    '''\n",
    "    data_loader = torch.utils.data.DataLoader(\n",
    "        data,\n",
    "        batch_size=40,\n",
    "        shuffle=True,\n",
    "        num_workers=4,\n",
    "        drop_last=False)\n",
    "\n",
    "    losses = []\n",
    "\n",
    "    if is_training:\n",
    "        model.train()\n",
    "    else:\n",
    "        model.eval()\n",
    "\n",
    "    for batch in data_loader:\n",
    "        pid_title = torch.unsqueeze(Variable(batch['pid_title']), 1)\n",
    "        pid_body = torch.unsqueeze(Variable(batch['pid_body']), 1)\n",
    "        rest_title = Variable(batch['rest_title'])\n",
    "        rest_body = Variable(batch['rest_body'])\n",
    "        \n",
    "        pid_title_pad = torch.unsqueeze(Variable(batch['pid_title_pad']), 1)\n",
    "        pid_body_pad = torch.unsqueeze(Variable(batch['pid_body_pad']), 1)\n",
    "        rest_title_pad = Variable(batch['rest_title_pad'])\n",
    "        rest_body_pad = Variable(batch['rest_body_pad'])\n",
    "        \n",
    "        pid_title, pid_body = pid_title.cuda(), pid_body.cuda()\n",
    "        rest_title, rest_body = rest_title.cuda(), rest_body.cuda()\n",
    "        pid_title_pad, pid_body_pad = pid_title_pad.cuda(), pid_body_pad.cuda()\n",
    "        rest_title_pad, rest_body_pad = rest_title_pad.cuda(), rest_body_pad.cuda()\n",
    "        \n",
    "        if is_training:\n",
    "            optimizer.zero_grad()\n",
    "        \n",
    "        pt = model(pid_title)\n",
    "        pb = model(pid_body)\n",
    "        rt = model(rest_title)\n",
    "        rb = model(rest_body)\n",
    "        \n",
    "        # we need to take the mean pooling taking into account the padding\n",
    "        # tensors are of dim batch_size x samples x output_size x (len - kernel + 1)\n",
    "        # pad tensors are of dim batch_size x samples x (len - kernel + 1)\n",
    "        \n",
    "        pid_title_pad_ex = torch.unsqueeze(pid_title_pad, 2).expand_as(pt)\n",
    "        pid_body_pad_ex = torch.unsqueeze(pid_body_pad, 2).expand_as(pb)\n",
    "        rest_title_pad_ex = torch.unsqueeze(rest_title_pad, 2).expand_as(rt)\n",
    "        rest_body_pad_ex = torch.unsqueeze(rest_body_pad, 2).expand_as(rb)\n",
    "        \n",
    "        pt = torch.squeeze(torch.sum(pt * pid_title_pad_ex, dim = 3), dim = 3)\n",
    "        pb = torch.squeeze(torch.sum(pb * pid_body_pad_ex, dim = 3), dim = 3)\n",
    "        rt = torch.squeeze(torch.sum(rt * rest_title_pad_ex, dim = 3), dim = 3)\n",
    "        rb = torch.squeeze(torch.sum(rb * rest_body_pad_ex, dim = 3), dim = 3)\n",
    "\n",
    "        # tensors are not of dim batch_size x samples x output_size\n",
    "        # need to scale down because not all uniformly padded\n",
    "        \n",
    "        ptp_norm = torch.sum(pid_title_pad, dim = 2).clamp(min = 1).expand_as(pt)\n",
    "        pbp_norm = torch.sum(pid_body_pad, dim = 2).clamp(min = 1).expand_as(pb)\n",
    "        rtp_norm = torch.sum(rest_title_pad, dim = 2).clamp(min = 1).expand_as(rt)\n",
    "        rbp_norm = torch.sum(rest_body_pad, dim = 2).clamp(min = 1).expand_as(rb)\n",
    "        \n",
    "        pt = pt / ptp_norm\n",
    "        pb = pb / pbp_norm\n",
    "        rt = rt / rtp_norm\n",
    "        rb = rb / rbp_norm\n",
    "        \n",
    "        pid_tensor = (pt + pb)/2\n",
    "        rest_tensor = (rt + rb)/2\n",
    "        #pid_tensor = pb\n",
    "        #rest_tensor = rb\n",
    "        \n",
    "        if is_training:\n",
    "            loss = loss_function(pid_tensor, rest_tensor, margin = 0.2)\n",
    "            loss.backward()\n",
    "            losses.append(loss.cpu().data[0])\n",
    "            optimizer.step()\n",
    "        else:\n",
    "            expanded = pid_tensor.expand_as(rest_tensor)\n",
    "            similarity = cs(expanded, rest_tensor, dim=2).squeeze(2)\n",
    "            similarity = similarity.data.cpu().numpy()\n",
    "            labels = batch['labels'].numpy()\n",
    "            l = dr.convert(similarity, labels)\n",
    "            losses.extend(l)\n",
    "\n",
    "    # Calculate epoch level scores\n",
    "    if is_training:\n",
    "        avg_loss = np.mean(losses)\n",
    "        return avg_loss\n",
    "    else:\n",
    "        e = Evaluation(losses)\n",
    "        MAP = e.MAP()*100\n",
    "        MRR = e.MRR()*100\n",
    "        P1 = e.Precision(1)*100\n",
    "        P5 = e.Precision(5)*100\n",
    "        return (MAP, MRR, P1, P5)"
   ]
  },
  {
   "cell_type": "code",
   "execution_count": 17,
   "metadata": {
    "collapsed": true
   },
   "outputs": [],
   "source": [
    "model = CNN(700, 3, embedding_tensor, 0.2)"
   ]
  },
  {
   "cell_type": "code",
   "execution_count": 10,
   "metadata": {
    "collapsed": true
   },
   "outputs": [],
   "source": [
    "val_path = \"../data/test.txt\"\n",
    "val = dr.read_annotations(val_path, K_neg = -1, prune_pos_cnt = -1)\n",
    "val_ex = dr.create_dev_set(ids_corpus, val)"
   ]
  },
  {
   "cell_type": "code",
   "execution_count": 18,
   "metadata": {
    "scrolled": true
   },
   "outputs": [
    {
     "name": "stdout",
     "output_type": "stream",
     "text": [
      "-------------\n",
      "Epoch 1:\n",
      "\n",
      "Train loss: 0.173059\n",
      "Val MAP: 54.897289, MRR: 68.721280, P1: 55.376344, P5: 41.612903\n",
      "This epoch took: 96.361859\n",
      "-------------\n",
      "Epoch 2:\n",
      "\n",
      "Train loss: 0.078864\n",
      "Val MAP: 56.191624, MRR: 70.020641, P1: 56.451613, P5: 42.150538\n",
      "This epoch took: 96.571328\n",
      "-------------\n",
      "Epoch 3:\n",
      "\n",
      "Train loss: 0.051982\n",
      "Val MAP: 55.710895, MRR: 69.074511, P1: 55.376344, P5: 42.795699\n",
      "This epoch took: 96.642486\n",
      "-------------\n",
      "Epoch 4:\n",
      "\n",
      "Train loss: 0.036709\n",
      "Val MAP: 56.061767, MRR: 70.112819, P1: 56.451613, P5: 42.688172\n",
      "This epoch took: 96.749269\n",
      "-------------\n",
      "Epoch 5:\n",
      "\n",
      "Train loss: 0.026522\n",
      "Val MAP: 56.176873, MRR: 69.644095, P1: 55.913978, P5: 43.118280\n",
      "This epoch took: 96.734546\n",
      "-------------\n",
      "Epoch 6:\n",
      "\n",
      "Train loss: 0.019237\n",
      "Val MAP: 55.717948, MRR: 68.991060, P1: 54.838710, P5: 41.827957\n",
      "This epoch took: 96.764762\n",
      "-------------\n",
      "Epoch 7:\n",
      "\n",
      "Train loss: 0.014320\n",
      "Val MAP: 55.642473, MRR: 68.651143, P1: 53.763441, P5: 42.580645\n",
      "This epoch took: 96.745095\n",
      "-------------\n",
      "Epoch 8:\n",
      "\n",
      "Train loss: 0.010502\n",
      "Val MAP: 55.035436, MRR: 67.889621, P1: 53.763441, P5: 42.473118\n",
      "This epoch took: 96.725071\n",
      "-------------\n",
      "Epoch 9:\n",
      "\n",
      "Train loss: 0.007937\n",
      "Val MAP: 55.354383, MRR: 69.503697, P1: 54.838710, P5: 42.473118\n",
      "This epoch took: 96.712490\n",
      "-------------\n",
      "Epoch 10:\n",
      "\n",
      "Train loss: 0.006095\n",
      "Val MAP: 54.777818, MRR: 67.932944, P1: 53.225806, P5: 42.365591\n",
      "This epoch took: 96.694340\n"
     ]
    }
   ],
   "source": [
    "z = train_model(train_ex, val_ex, model)"
   ]
  },
  {
   "cell_type": "code",
   "execution_count": 27,
   "metadata": {
    "collapsed": true
   },
   "outputs": [],
   "source": [
    "model = torch.load(\"model4\")\n",
    "real_val_path = \"../data/dev.txt\"\n",
    "real_val = dr.read_annotations(real_val_path, K_neg = -1, prune_pos_cnt = -1)\n",
    "real_val_ex = dr.create_dev_set(ids_corpus, real_val)\n",
    "model = model.cuda()\n",
    "z = run_epoch(real_val_ex, False, model, None)"
   ]
  },
  {
   "cell_type": "code",
   "execution_count": 28,
   "metadata": {},
   "outputs": [
    {
     "data": {
      "text/plain": [
       "(55.884047620367426, 67.71800751726053, 54.4973544973545, 45.82010582010583)"
      ]
     },
     "execution_count": 28,
     "metadata": {},
     "output_type": "execute_result"
    }
   ],
   "source": [
    "z"
   ]
  },
  {
   "cell_type": "code",
   "execution_count": null,
   "metadata": {
    "collapsed": true
   },
   "outputs": [],
   "source": []
  }
 ],
 "metadata": {
  "kernelspec": {
   "display_name": "Python 3",
   "language": "python",
   "name": "python3"
  },
  "language_info": {
   "codemirror_mode": {
    "name": "ipython",
    "version": 3
   },
   "file_extension": ".py",
   "mimetype": "text/x-python",
   "name": "python",
   "nbconvert_exporter": "python",
   "pygments_lexer": "ipython3",
   "version": "3.6.2"
  }
 },
 "nbformat": 4,
 "nbformat_minor": 2
}
