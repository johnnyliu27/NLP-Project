{
 "cells": [
  {
   "cell_type": "code",
   "execution_count": 1,
   "metadata": {
    "collapsed": true
   },
   "outputs": [],
   "source": [
    "import sys\n",
    "from torch.autograd import Variable\n",
    "import torch\n",
    "import torch.nn as nn\n",
    "import torch.nn.functional as F\n",
    "import numpy as np\n",
    "import sklearn\n",
    "import random\n",
    "import time\n",
    "import torch.utils.data\n",
    "\n",
    "sys.path.append(\"../src/\")\n",
    "import data_reader as dr\n",
    "from evaluate import Evaluation\n",
    "from lstm import LSTM\n",
    "from loss_function import loss_function\n",
    "from loss_function import cs\n",
    "from meter import AUCMeter"
   ]
  },
  {
   "cell_type": "code",
   "execution_count": 2,
   "metadata": {},
   "outputs": [],
   "source": [
    "corpus_path = \"../data_Android/corpus.tsv.gz\"\n",
    "\n",
    "corpus = dr.read_corpus(corpus_path)\n",
    "\n",
    "embedding_path = \"../data/glove.combined.300d.txt.gz\"\n",
    "embedding_tensor, word_to_indx = dr.getEmbeddingTensor(embedding_path)\n",
    "\n",
    "ids_corpus = dr.map_corpus(corpus, word_to_indx, kernel_width = 1)"
   ]
  },
  {
   "cell_type": "code",
   "execution_count": 3,
   "metadata": {},
   "outputs": [],
   "source": [
    "train_corpus_path = \"../data/text_tokenized.txt.gz\"\n",
    "train_corpus = dr.read_corpus(train_corpus_path)\n",
    "train_ids_corpus = dr.map_corpus(train_corpus, word_to_indx, kernel_width = 1)\n",
    "train_path = \"../data/train_random.txt\"\n",
    "train = dr.read_annotations(train_path)\n",
    "train_ex = dr.create_android_train_set(train_ids_corpus, ids_corpus, train)"
   ]
  },
  {
   "cell_type": "code",
   "execution_count": 4,
   "metadata": {
    "collapsed": true
   },
   "outputs": [],
   "source": [
    "eval_path = \"dev.txt\"\n",
    "eval_anno = dr.read_annotations(eval_path, K_neg = -1, prune_pos_cnt = -1, ignore_dup = True)\n",
    "eval_set = dr.create_dev_set(ids_corpus, eval_anno)"
   ]
  },
  {
   "cell_type": "code",
   "execution_count": 5,
   "metadata": {
    "collapsed": true
   },
   "outputs": [],
   "source": [
    "from transfer_model import Encoder\n",
    "from transfer_model import DomainClassifier\n",
    "\n",
    "encoder = Encoder(200, embedding_tensor, 0.2)\n",
    "dc = DomainClassifier(200, 200)"
   ]
  },
  {
   "cell_type": "code",
   "execution_count": null,
   "metadata": {
    "collapsed": true
   },
   "outputs": [],
   "source": [
    "import torch.utils.data\n",
    "\n",
    "def train_model(train_data, dev_data, encoder, dc):\n",
    "    encoder.cuda()\n",
    "    dc.cuda()\n",
    "    optimizer_encoder = torch.optim.Adam(encoder.parameters(), lr=0.0001)\n",
    "    optimizer_dc = torch.optim.Adam(dc.parameters(), lr=-0.001)\n",
    "\n",
    "    lasttime = time.time()\n",
    "    for epoch in range(1, 31):\n",
    "        print(\"-------------\\nEpoch {}:\\n\".format(epoch))\n",
    "\n",
    "        loss = run_epoch(train_data, True, encoder, dc, optimizer_encoder, optimizer_dc, 40)\n",
    "        (reg_loss, bceloss) = loss\n",
    "        print('Train loss: {:.6f}, BCE loss: {:.6f}'.format(reg_loss, bceloss))\n",
    "        torch.save(encoder, \"encoder{}\".format(epoch))\n",
    "        torch.save(dc, \"dc{}\".format(epoch))\n",
    "        \n",
    "        AUC = run_epoch(dev_data, False, encoder, dc, optimizer_encoder, optimizer_dc, 5)\n",
    "        print('Val AUC: {:.6f}'.format(AUC))\n",
    "        \n",
    "        print('This epoch took: {:.6f}'.format(time.time() - lasttime))\n",
    "        lasttime = time.time()\n",
    "\n",
    "        \n",
    "def run_epoch(data, is_training, encoder, dc, optimizer_encoder, optimizer_dc, batch_size):\n",
    "    '''\n",
    "    Train model for one pass of train data, and return loss, acccuracy\n",
    "    '''\n",
    "    data_loader = torch.utils.data.DataLoader(\n",
    "        data,\n",
    "        batch_size=batch_size,\n",
    "        shuffle=True,\n",
    "        num_workers=4,\n",
    "        drop_last=False)\n",
    "\n",
    "    losses = []\n",
    "    bcelosses = []\n",
    "    targets = []\n",
    "    scores = []\n",
    "\n",
    "    if is_training:\n",
    "        encoder.train()\n",
    "        dc.train()\n",
    "    else:\n",
    "        encoder.eval()\n",
    "        dc.eval()\n",
    "\n",
    "    for batch in data_loader:\n",
    "        pid_title = torch.unsqueeze(Variable(batch['pid_title']), 1)\n",
    "        pid_body = torch.unsqueeze(Variable(batch['pid_body']), 1)\n",
    "        rest_title = Variable(batch['rest_title'])\n",
    "        rest_body = Variable(batch['rest_body'])\n",
    "        \n",
    "        if is_training:\n",
    "            android_title = torch.unsqueeze(Variable(batch['android_title']), 1).cuda()\n",
    "            android_body = torch.unsqueeze(Variable(batch['android_body']), 1).cuda()\n",
    "        \n",
    "        pid_title, pid_body = pid_title.cuda(), pid_body.cuda()\n",
    "        rest_title, rest_body = rest_title.cuda(), rest_body.cuda()\n",
    "        \n",
    "        true_batch_size = pid_title.size()[0]\n",
    "        \n",
    "        if is_training:\n",
    "            optimizer_encoder.zero_grad()\n",
    "            optimizer_dc.zero_grad()\n",
    "        \n",
    "        pt = encoder(pid_title)\n",
    "        pb = encoder(pid_body)\n",
    "        rt = encoder(rest_title)\n",
    "        rb = encoder(rest_body)\n",
    "        \n",
    "        pid_tensor = (pt + pb)/2\n",
    "        rest_tensor = (rt + rb)/2\n",
    "        \n",
    "        if is_training:\n",
    "            android_tensor = (encoder(android_title) + encoder(android_body))/2\n",
    "            dropout = nn.Dropout(p = 0.2)\n",
    "            \n",
    "            pid_tensor = dropout(pid_tensor)\n",
    "            rest_tensor = dropout(rest_tensor)\n",
    "            android_tensor = dropout(android_tensor)\n",
    "            \n",
    "            pid_domain = dc(pid_tensor.view(true_batch_size, -1))\n",
    "            android_domain = dc(android_tensor.view(true_batch_size, -1))\n",
    "            \n",
    "            # vectors are of dim batch_size x 2\n",
    "            \n",
    "            softmax = nn.Softmax()\n",
    "            pid_prob = softmax(pid_domain)\n",
    "            android_prob = softmax(android_domain)\n",
    "            probs = torch.cat((pid_prob, android_prob)).clamp(min = 1e-5, max = 1 - 1e-5)\n",
    "            target = Variable(torch.FloatTensor([0] * true_batch_size + [1] * true_batch_size)).cuda()\n",
    "            dc_loss = torch.nn.BCELoss()\n",
    "            \n",
    "            lmbda = 1e-3\n",
    "            bceloss = dc_loss(probs[:,0], target)\n",
    "            loss = loss_function(pid_tensor, rest_tensor, margin = 1.0) - lmbda * bceloss\n",
    "            \n",
    "            loss.backward()\n",
    "            losses.append(loss.cpu().data[0])\n",
    "            bcelosses.append(bceloss.cpu().data[0])\n",
    "            optimizer_encoder.step()\n",
    "            optimizer_dc.step()\n",
    "        else:\n",
    "            expanded = pid_tensor.expand_as(rest_tensor)\n",
    "            similarity = cs(expanded, rest_tensor, dim=2).squeeze(2)\n",
    "            similarity = torch.FloatTensor(similarity.data.cpu().numpy())\n",
    "            labels = batch['labels']\n",
    "            \n",
    "            for sim in similarity:\n",
    "                scores.append(sim)\n",
    "            targets.extend(labels.view(-1))\n",
    "\n",
    "    # Calculate epoch level scores\n",
    "    if is_training:\n",
    "        avg_loss = np.mean(losses)\n",
    "        avg_bce = np.mean(bcelosses)\n",
    "        return (avg_loss, avg_bce)\n",
    "    else:\n",
    "        aucmeter = AUCMeter()\n",
    "        aucmeter.reset()\n",
    "        \n",
    "        output = torch.cat(scores)\n",
    "        expect = torch.LongTensor(targets)\n",
    "        aucmeter.add(output, expect)\n",
    "        return aucmeter.value(max_fpr=0.05)"
   ]
  },
  {
   "cell_type": "code",
   "execution_count": 15,
   "metadata": {
    "scrolled": true
   },
   "outputs": [
    {
     "name": "stdout",
     "output_type": "stream",
     "text": [
      "-------------\n",
      "Epoch 1:\n",
      "\n",
      "Train loss: 1.023345, BCE loss: 0.390002\n",
      "Val AUC: 0.481933\n",
      "This epoch took: 132.349137\n",
      "-------------\n",
      "Epoch 2:\n",
      "\n",
      "Train loss: 0.965928, BCE loss: 0.266772\n",
      "Val AUC: 0.594675\n",
      "This epoch took: 130.363563\n",
      "-------------\n",
      "Epoch 3:\n",
      "\n",
      "Train loss: 0.906220, BCE loss: 0.216189\n",
      "Val AUC: 0.596274\n",
      "This epoch took: 132.697346\n",
      "-------------\n",
      "Epoch 4:\n",
      "\n",
      "Train loss: 0.883714, BCE loss: 0.196960\n",
      "Val AUC: 0.593224\n",
      "This epoch took: 134.621222\n",
      "-------------\n",
      "Epoch 5:\n",
      "\n",
      "Train loss: 0.864735, BCE loss: 0.180113\n",
      "Val AUC: 0.591745\n",
      "This epoch took: 134.793433\n",
      "-------------\n",
      "Epoch 6:\n",
      "\n",
      "Train loss: 0.850426, BCE loss: 0.176465\n",
      "Val AUC: 0.569053\n",
      "This epoch took: 134.828876\n",
      "-------------\n",
      "Epoch 7:\n",
      "\n"
     ]
    },
    {
     "name": "stderr",
     "output_type": "stream",
     "text": [
      "Process Process-144:\n",
      "Process Process-143:\n",
      "Traceback (most recent call last):\n",
      "Traceback (most recent call last):\n",
      "  File \"/home/sunl/.conda/envs/my_pytorch/lib/python3.6/multiprocessing/process.py\", line 249, in _bootstrap\n",
      "    self.run()\n",
      "  File \"/home/sunl/.conda/envs/my_pytorch/lib/python3.6/multiprocessing/process.py\", line 249, in _bootstrap\n",
      "    self.run()\n",
      "  File \"/home/sunl/.conda/envs/my_pytorch/lib/python3.6/multiprocessing/process.py\", line 93, in run\n",
      "    self._target(*self._args, **self._kwargs)\n",
      "  File \"/home/sunl/.conda/envs/my_pytorch/lib/python3.6/multiprocessing/process.py\", line 93, in run\n",
      "    self._target(*self._args, **self._kwargs)\n",
      "  File \"/home/sunl/.conda/envs/my_pytorch/lib/python3.6/site-packages/torch/utils/data/dataloader.py\", line 35, in _worker_loop\n",
      "    r = index_queue.get()\n",
      "  File \"/home/sunl/.conda/envs/my_pytorch/lib/python3.6/multiprocessing/queues.py\", line 341, in get\n",
      "    with self._rlock:\n",
      "  File \"/home/sunl/.conda/envs/my_pytorch/lib/python3.6/site-packages/torch/utils/data/dataloader.py\", line 35, in _worker_loop\n",
      "    r = index_queue.get()\n",
      "  File \"/home/sunl/.conda/envs/my_pytorch/lib/python3.6/multiprocessing/queues.py\", line 341, in get\n",
      "    with self._rlock:\n",
      "  File \"/home/sunl/.conda/envs/my_pytorch/lib/python3.6/multiprocessing/synchronize.py\", line 96, in __enter__\n",
      "    return self._semlock.__enter__()\n",
      "  File \"/home/sunl/.conda/envs/my_pytorch/lib/python3.6/multiprocessing/synchronize.py\", line 96, in __enter__\n",
      "    return self._semlock.__enter__()\n",
      "KeyboardInterrupt\n",
      "KeyboardInterrupt\n",
      "Process Process-141:\n",
      "Process Process-142:\n",
      "Traceback (most recent call last):\n",
      "Traceback (most recent call last):\n",
      "  File \"/home/sunl/.conda/envs/my_pytorch/lib/python3.6/multiprocessing/process.py\", line 249, in _bootstrap\n",
      "    self.run()\n",
      "  File \"/home/sunl/.conda/envs/my_pytorch/lib/python3.6/multiprocessing/process.py\", line 249, in _bootstrap\n",
      "    self.run()\n",
      "  File \"/home/sunl/.conda/envs/my_pytorch/lib/python3.6/multiprocessing/process.py\", line 93, in run\n",
      "    self._target(*self._args, **self._kwargs)\n",
      "  File \"/home/sunl/.conda/envs/my_pytorch/lib/python3.6/multiprocessing/process.py\", line 93, in run\n",
      "    self._target(*self._args, **self._kwargs)\n",
      "  File \"/home/sunl/.conda/envs/my_pytorch/lib/python3.6/site-packages/torch/utils/data/dataloader.py\", line 35, in _worker_loop\n",
      "    r = index_queue.get()\n",
      "  File \"/home/sunl/.conda/envs/my_pytorch/lib/python3.6/site-packages/torch/utils/data/dataloader.py\", line 35, in _worker_loop\n",
      "    r = index_queue.get()\n",
      "  File \"/home/sunl/.conda/envs/my_pytorch/lib/python3.6/multiprocessing/queues.py\", line 341, in get\n",
      "    with self._rlock:\n",
      "  File \"/home/sunl/.conda/envs/my_pytorch/lib/python3.6/multiprocessing/queues.py\", line 342, in get\n",
      "    res = self._reader.recv_bytes()\n",
      "  File \"/home/sunl/.conda/envs/my_pytorch/lib/python3.6/multiprocessing/synchronize.py\", line 96, in __enter__\n",
      "    return self._semlock.__enter__()\n",
      "KeyboardInterrupt\n",
      "  File \"/home/sunl/.conda/envs/my_pytorch/lib/python3.6/multiprocessing/connection.py\", line 216, in recv_bytes\n",
      "    buf = self._recv_bytes(maxlength)\n",
      "  File \"/home/sunl/.conda/envs/my_pytorch/lib/python3.6/multiprocessing/connection.py\", line 407, in _recv_bytes\n",
      "    buf = self._recv(4)\n",
      "  File \"/home/sunl/.conda/envs/my_pytorch/lib/python3.6/multiprocessing/connection.py\", line 379, in _recv\n",
      "    chunk = read(handle, remaining)\n",
      "KeyboardInterrupt\n"
     ]
    },
    {
     "ename": "KeyboardInterrupt",
     "evalue": "",
     "output_type": "error",
     "traceback": [
      "\u001b[0;31m---------------------------------------------------------------------------\u001b[0m",
      "\u001b[0;31mKeyboardInterrupt\u001b[0m                         Traceback (most recent call last)",
      "\u001b[0;32m<ipython-input-15-eb88aac5f59c>\u001b[0m in \u001b[0;36m<module>\u001b[0;34m()\u001b[0m\n\u001b[0;32m----> 1\u001b[0;31m \u001b[0mz\u001b[0m \u001b[0;34m=\u001b[0m \u001b[0mtrain_model\u001b[0m\u001b[0;34m(\u001b[0m\u001b[0mtrain_ex\u001b[0m\u001b[0;34m,\u001b[0m \u001b[0meval_set\u001b[0m\u001b[0;34m,\u001b[0m \u001b[0mencoder\u001b[0m\u001b[0;34m,\u001b[0m \u001b[0mdc\u001b[0m\u001b[0;34m)\u001b[0m\u001b[0;34m\u001b[0m\u001b[0m\n\u001b[0m",
      "\u001b[0;32m<ipython-input-14-d570f4d28425>\u001b[0m in \u001b[0;36mtrain_model\u001b[0;34m(train_data, dev_data, encoder, dc)\u001b[0m\n\u001b[1;32m     11\u001b[0m         \u001b[0mprint\u001b[0m\u001b[0;34m(\u001b[0m\u001b[0;34m\"-------------\\nEpoch {}:\\n\"\u001b[0m\u001b[0;34m.\u001b[0m\u001b[0mformat\u001b[0m\u001b[0;34m(\u001b[0m\u001b[0mepoch\u001b[0m\u001b[0;34m)\u001b[0m\u001b[0;34m)\u001b[0m\u001b[0;34m\u001b[0m\u001b[0m\n\u001b[1;32m     12\u001b[0m \u001b[0;34m\u001b[0m\u001b[0m\n\u001b[0;32m---> 13\u001b[0;31m         \u001b[0mloss\u001b[0m \u001b[0;34m=\u001b[0m \u001b[0mrun_epoch\u001b[0m\u001b[0;34m(\u001b[0m\u001b[0mtrain_data\u001b[0m\u001b[0;34m,\u001b[0m \u001b[0;32mTrue\u001b[0m\u001b[0;34m,\u001b[0m \u001b[0mencoder\u001b[0m\u001b[0;34m,\u001b[0m \u001b[0mdc\u001b[0m\u001b[0;34m,\u001b[0m \u001b[0moptimizer_encoder\u001b[0m\u001b[0;34m,\u001b[0m \u001b[0moptimizer_dc\u001b[0m\u001b[0;34m,\u001b[0m \u001b[0;36m40\u001b[0m\u001b[0;34m)\u001b[0m\u001b[0;34m\u001b[0m\u001b[0m\n\u001b[0m\u001b[1;32m     14\u001b[0m         \u001b[0;34m(\u001b[0m\u001b[0mreg_loss\u001b[0m\u001b[0;34m,\u001b[0m \u001b[0mbceloss\u001b[0m\u001b[0;34m)\u001b[0m \u001b[0;34m=\u001b[0m \u001b[0mloss\u001b[0m\u001b[0;34m\u001b[0m\u001b[0m\n\u001b[1;32m     15\u001b[0m         \u001b[0mprint\u001b[0m\u001b[0;34m(\u001b[0m\u001b[0;34m'Train loss: {:.6f}, BCE loss: {:.6f}'\u001b[0m\u001b[0;34m.\u001b[0m\u001b[0mformat\u001b[0m\u001b[0;34m(\u001b[0m\u001b[0mreg_loss\u001b[0m\u001b[0;34m,\u001b[0m \u001b[0mbceloss\u001b[0m\u001b[0;34m)\u001b[0m\u001b[0;34m)\u001b[0m\u001b[0;34m\u001b[0m\u001b[0m\n",
      "\u001b[0;32m<ipython-input-14-d570f4d28425>\u001b[0m in \u001b[0;36mrun_epoch\u001b[0;34m(data, is_training, encoder, dc, optimizer_encoder, optimizer_dc, batch_size)\u001b[0m\n\u001b[1;32m     98\u001b[0m             \u001b[0mloss\u001b[0m \u001b[0;34m=\u001b[0m \u001b[0mloss_function\u001b[0m\u001b[0;34m(\u001b[0m\u001b[0mpid_tensor\u001b[0m\u001b[0;34m,\u001b[0m \u001b[0mrest_tensor\u001b[0m\u001b[0;34m,\u001b[0m \u001b[0mmargin\u001b[0m \u001b[0;34m=\u001b[0m \u001b[0;36m1.0\u001b[0m\u001b[0;34m)\u001b[0m \u001b[0;34m-\u001b[0m \u001b[0mlmbda\u001b[0m \u001b[0;34m*\u001b[0m \u001b[0mbceloss\u001b[0m\u001b[0;34m\u001b[0m\u001b[0m\n\u001b[1;32m     99\u001b[0m \u001b[0;34m\u001b[0m\u001b[0m\n\u001b[0;32m--> 100\u001b[0;31m             \u001b[0mloss\u001b[0m\u001b[0;34m.\u001b[0m\u001b[0mbackward\u001b[0m\u001b[0;34m(\u001b[0m\u001b[0;34m)\u001b[0m\u001b[0;34m\u001b[0m\u001b[0m\n\u001b[0m\u001b[1;32m    101\u001b[0m             \u001b[0mlosses\u001b[0m\u001b[0;34m.\u001b[0m\u001b[0mappend\u001b[0m\u001b[0;34m(\u001b[0m\u001b[0mloss\u001b[0m\u001b[0;34m.\u001b[0m\u001b[0mcpu\u001b[0m\u001b[0;34m(\u001b[0m\u001b[0;34m)\u001b[0m\u001b[0;34m.\u001b[0m\u001b[0mdata\u001b[0m\u001b[0;34m[\u001b[0m\u001b[0;36m0\u001b[0m\u001b[0;34m]\u001b[0m\u001b[0;34m)\u001b[0m\u001b[0;34m\u001b[0m\u001b[0m\n\u001b[1;32m    102\u001b[0m             \u001b[0mbcelosses\u001b[0m\u001b[0;34m.\u001b[0m\u001b[0mappend\u001b[0m\u001b[0;34m(\u001b[0m\u001b[0mbceloss\u001b[0m\u001b[0;34m.\u001b[0m\u001b[0mcpu\u001b[0m\u001b[0;34m(\u001b[0m\u001b[0;34m)\u001b[0m\u001b[0;34m.\u001b[0m\u001b[0mdata\u001b[0m\u001b[0;34m[\u001b[0m\u001b[0;36m0\u001b[0m\u001b[0;34m]\u001b[0m\u001b[0;34m)\u001b[0m\u001b[0;34m\u001b[0m\u001b[0m\n",
      "\u001b[0;32m~/.conda/envs/my_pytorch/lib/python3.6/site-packages/torch/autograd/variable.py\u001b[0m in \u001b[0;36mbackward\u001b[0;34m(self, gradient, retain_variables)\u001b[0m\n\u001b[1;32m    144\u001b[0m                     'or with gradient w.r.t. the variable')\n\u001b[1;32m    145\u001b[0m             \u001b[0mgradient\u001b[0m \u001b[0;34m=\u001b[0m \u001b[0mself\u001b[0m\u001b[0;34m.\u001b[0m\u001b[0mdata\u001b[0m\u001b[0;34m.\u001b[0m\u001b[0mnew\u001b[0m\u001b[0;34m(\u001b[0m\u001b[0;34m)\u001b[0m\u001b[0;34m.\u001b[0m\u001b[0mresize_as_\u001b[0m\u001b[0;34m(\u001b[0m\u001b[0mself\u001b[0m\u001b[0;34m.\u001b[0m\u001b[0mdata\u001b[0m\u001b[0;34m)\u001b[0m\u001b[0;34m.\u001b[0m\u001b[0mfill_\u001b[0m\u001b[0;34m(\u001b[0m\u001b[0;36m1\u001b[0m\u001b[0;34m)\u001b[0m\u001b[0;34m\u001b[0m\u001b[0m\n\u001b[0;32m--> 146\u001b[0;31m         \u001b[0mself\u001b[0m\u001b[0;34m.\u001b[0m\u001b[0m_execution_engine\u001b[0m\u001b[0;34m.\u001b[0m\u001b[0mrun_backward\u001b[0m\u001b[0;34m(\u001b[0m\u001b[0;34m(\u001b[0m\u001b[0mself\u001b[0m\u001b[0;34m,\u001b[0m\u001b[0;34m)\u001b[0m\u001b[0;34m,\u001b[0m \u001b[0;34m(\u001b[0m\u001b[0mgradient\u001b[0m\u001b[0;34m,\u001b[0m\u001b[0;34m)\u001b[0m\u001b[0;34m,\u001b[0m \u001b[0mretain_variables\u001b[0m\u001b[0;34m)\u001b[0m\u001b[0;34m\u001b[0m\u001b[0m\n\u001b[0m\u001b[1;32m    147\u001b[0m \u001b[0;34m\u001b[0m\u001b[0m\n\u001b[1;32m    148\u001b[0m     \u001b[0;32mdef\u001b[0m \u001b[0mregister_hook\u001b[0m\u001b[0;34m(\u001b[0m\u001b[0mself\u001b[0m\u001b[0;34m,\u001b[0m \u001b[0mhook\u001b[0m\u001b[0;34m)\u001b[0m\u001b[0;34m:\u001b[0m\u001b[0;34m\u001b[0m\u001b[0m\n",
      "\u001b[0;31mKeyboardInterrupt\u001b[0m: "
     ]
    }
   ],
   "source": [
    "z = train_model(train_ex, eval_set, encoder, dc)"
   ]
  },
  {
   "cell_type": "code",
   "execution_count": null,
   "metadata": {
    "scrolled": true
   },
   "outputs": [],
   "source": [
    "encoder = torch.load(\"encoder3\")\n",
    "dc = torch.load(\"dc3\")\n",
    "z = run_epoch(eval_set, False, encoder, dc, None, None, 5)\n",
    "print(z)"
   ]
  },
  {
   "cell_type": "code",
   "execution_count": 11,
   "metadata": {},
   "outputs": [
    {
     "name": "stdout",
     "output_type": "stream",
     "text": [
      "0.565994666816\n"
     ]
    }
   ],
   "source": [
    "model = torch.load(\"model1\")\n",
    "eval_path = \"test.txt\"\n",
    "eval_anno = dr.read_annotations(eval_path, K_neg = -1, prune_pos_cnt = -1, ignore_dup = True)\n",
    "eval_set = dr.create_dev_set(ids_corpus, eval_anno)\n",
    "\n",
    "z = run_epoch(eval_set, False, model, None, 5)\n",
    "print(z)"
   ]
  },
  {
   "cell_type": "code",
   "execution_count": 11,
   "metadata": {
    "collapsed": true
   },
   "outputs": [],
   "source": [
    "out = dr.build_android_qsets(\"../data_Android/test.pos.txt\", \"../data_Android/test.neg.txt\")"
   ]
  },
  {
   "cell_type": "code",
   "execution_count": 12,
   "metadata": {
    "collapsed": true
   },
   "outputs": [],
   "source": [
    "qIDs, qCandidates, labels = out"
   ]
  },
  {
   "cell_type": "code",
   "execution_count": 13,
   "metadata": {
    "collapsed": true
   },
   "outputs": [],
   "source": [
    "f = open(\"test.txt\", \"w\")\n",
    "\n",
    "for qid in qIDs:\n",
    "    l = len(labels[qid])\n",
    "    if l == 101:\n",
    "        qPos = [qCandidates[qid][0]]\n",
    "        qNeg = qCandidates[qid][1:]\n",
    "    else:\n",
    "        qPos = qCandidates[qid][0:2]\n",
    "        qNeg = qCandidates[qid][2:]\n",
    "    for i in range(len(qPos)):\n",
    "        line = qid + \"\\t\" + qPos[i] + \"\\t\" + \" \".join(qNeg[100 * i: 100 * i + 100]) + \"\\n\"\n",
    "        f.write(line)\n",
    "        \n",
    "f.close()"
   ]
  },
  {
   "cell_type": "code",
   "execution_count": 21,
   "metadata": {},
   "outputs": [
    {
     "name": "stdout",
     "output_type": "stream",
     "text": [
      "322400\n"
     ]
    }
   ],
   "source": [
    "lstm_parameters = list(model.parameters())\n",
    "lstm_num_params = sum([np.prod(p.size()) for p in lstm_parameters]) - 126219 * 301 # embedding layer\n",
    "print(lstm_num_params)"
   ]
  },
  {
   "cell_type": "code",
   "execution_count": 23,
   "metadata": {},
   "outputs": [
    {
     "data": {
      "text/plain": [
       "'0.1.12_2'"
      ]
     },
     "execution_count": 23,
     "metadata": {},
     "output_type": "execute_result"
    }
   ],
   "source": [
    "torch.__version__"
   ]
  },
  {
   "cell_type": "code",
   "execution_count": 30,
   "metadata": {},
   "outputs": [
    {
     "data": {
      "text/plain": [
       "['1', '2', '5', '8', '9', '11', '16', '17', '27', '30']"
      ]
     },
     "execution_count": 30,
     "metadata": {},
     "output_type": "execute_result"
    }
   ],
   "source": [
    "list(ids_corpus.keys())[:10]"
   ]
  },
  {
   "cell_type": "code",
   "execution_count": 26,
   "metadata": {
    "collapsed": true
   },
   "outputs": [],
   "source": [
    "a = torch.randn(40,2)"
   ]
  },
  {
   "cell_type": "code",
   "execution_count": 29,
   "metadata": {},
   "outputs": [
    {
     "data": {
      "text/plain": [
       "\n",
       "-0.2072\n",
       "-0.8126\n",
       " 1.2249\n",
       " 2.0323\n",
       " 1.2807\n",
       " 1.0441\n",
       "-0.9534\n",
       "-1.1760\n",
       "-0.5620\n",
       " 1.2625\n",
       "-0.4856\n",
       "-0.5826\n",
       " 0.0455\n",
       " 0.8008\n",
       " 1.2431\n",
       " 1.5276\n",
       "-3.2283\n",
       " 0.1589\n",
       " 0.0005\n",
       "-0.3962\n",
       " 1.7559\n",
       " 0.5291\n",
       "-0.1795\n",
       " 0.3254\n",
       " 0.6758\n",
       " 1.0323\n",
       "-0.2222\n",
       " 1.4305\n",
       "-0.7630\n",
       "-0.3778\n",
       "-1.1588\n",
       "-0.2775\n",
       "-0.6053\n",
       "-0.0738\n",
       "-1.4539\n",
       " 0.2250\n",
       " 2.4940\n",
       "-0.8894\n",
       "-0.7278\n",
       "-0.1018\n",
       "[torch.FloatTensor of size 40]"
      ]
     },
     "execution_count": 29,
     "metadata": {},
     "output_type": "execute_result"
    }
   ],
   "source": [
    "a[:,0]"
   ]
  },
  {
   "cell_type": "code",
   "execution_count": null,
   "metadata": {
    "collapsed": true
   },
   "outputs": [],
   "source": []
  }
 ],
 "metadata": {
  "kernelspec": {
   "display_name": "Python 3",
   "language": "python",
   "name": "python3"
  },
  "language_info": {
   "codemirror_mode": {
    "name": "ipython",
    "version": 3
   },
   "file_extension": ".py",
   "mimetype": "text/x-python",
   "name": "python",
   "nbconvert_exporter": "python",
   "pygments_lexer": "ipython3",
   "version": "3.6.2"
  }
 },
 "nbformat": 4,
 "nbformat_minor": 2
}
