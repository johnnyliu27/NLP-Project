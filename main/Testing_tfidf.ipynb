{
 "cells": [
  {
   "cell_type": "code",
   "execution_count": 1,
   "metadata": {},
   "outputs": [],
   "source": [
    "import sys\n",
    "from sklearn.feature_extraction.text import TfidfVectorizer\n",
    "import numpy as np\n",
    "import re\n",
    "import gzip\n",
    "import torch\n",
    "\n",
    "sys.path.append(\"../src/\")\n",
    "from loss_function import cs\n",
    "from meter import AUCMeter\n",
    "import data_reader as dr"
   ]
  },
  {
   "cell_type": "code",
   "execution_count": 2,
   "metadata": {},
   "outputs": [],
   "source": [
    "corpus_path = '../data_Android/corpus.tsv/corpus.txt'\n",
    "features = dr.build_tfidf_features(corpus_path)\n"
   ]
  },
  {
   "cell_type": "code",
   "execution_count": 3,
   "metadata": {},
   "outputs": [],
   "source": [
    "path_pos = '../data_Android/dev.pos.txt'\n",
    "path_neg = '../data_Android/dev.neg.txt'\n",
    "qIDsDev, qCandidatesDev, labelsDev = dr.build_android_qsets(path_pos, path_neg)\n",
    "\n",
    "path_pos = '../data_Android/test.pos.txt'\n",
    "path_neg = '../data_Android/test.neg.txt'\n",
    "qIDsTest, qCandidatesTest, labelsTest = dr.build_android_qsets(path_pos, path_neg)\n"
   ]
  },
  {
   "cell_type": "code",
   "execution_count": 4,
   "metadata": {},
   "outputs": [],
   "source": [
    "def computeAUC(qIDs, qCandidates, labels):\n",
    "    scores = []\n",
    "    targets = []\n",
    "    \n",
    "    for q in qIDs:\n",
    "        qTensor = features[q]\n",
    "        for p in qCandidates[q]:\n",
    "            pTensor = features[p]\n",
    "            score = cs(qTensor, pTensor, 0)\n",
    "            scores.append(score)\n",
    "        targets.extend(labels[q])\n",
    "    \n",
    "    aucmeter = AUCMeter()\n",
    "    aucmeter.reset()\n",
    "    output = torch.cat(scores) \n",
    "    expect = torch.LongTensor(targets)\n",
    "    aucmeter.add(output, expect)\n",
    "    \n",
    "    return aucmeter.value(max_fpr=0.05)"
   ]
  },
  {
   "cell_type": "code",
   "execution_count": 5,
   "metadata": {},
   "outputs": [],
   "source": [
    "AUC_dev = computeAUC(qIDsDev, qCandidatesDev, labelsDev)\n",
    "AUC_test = computeAUC(qIDsTest, qCandidatesTest, labelsTest)"
   ]
  },
  {
   "cell_type": "code",
   "execution_count": 6,
   "metadata": {},
   "outputs": [
    {
     "name": "stdout",
     "output_type": "stream",
     "text": [
      "AUC(0.05) of the dev  set: 0.70691133468\n",
      "AUC(0.05) of the test set: 0.73925406644\n"
     ]
    }
   ],
   "source": [
    "print ('AUC(0.05) of the dev  set: ' + str(AUC_dev))\n",
    "print ('AUC(0.05) of the test set: ' + str(AUC_test))\n"
   ]
  },
  {
   "cell_type": "code",
   "execution_count": null,
   "metadata": {},
   "outputs": [],
   "source": []
  }
 ],
 "metadata": {
  "kernelspec": {
   "display_name": "Python [default]",
   "language": "python",
   "name": "python3"
  },
  "language_info": {
   "codemirror_mode": {
    "name": "ipython",
    "version": 3
   },
   "file_extension": ".py",
   "mimetype": "text/x-python",
   "name": "python",
   "nbconvert_exporter": "python",
   "pygments_lexer": "ipython3",
   "version": "3.6.3"
  }
 },
 "nbformat": 4,
 "nbformat_minor": 2
}
