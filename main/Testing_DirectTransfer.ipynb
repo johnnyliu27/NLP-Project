{
 "cells": [
  {
   "cell_type": "code",
   "execution_count": 1,
   "metadata": {
    "collapsed": true
   },
   "outputs": [],
   "source": [
    "import sys\n",
    "from torch.autograd import Variable\n",
    "import torch\n",
    "import torch.nn as nn\n",
    "import torch.nn.functional as F\n",
    "import numpy as np\n",
    "import sklearn\n",
    "import random\n",
    "import time\n",
    "import torch.utils.data\n",
    "\n",
    "sys.path.append(\"../src/\")\n",
    "import data_reader as dr\n",
    "from evaluate import Evaluation\n",
    "from lstm import LSTM\n",
    "from loss_function import loss_function\n",
    "from loss_function import cs\n",
    "from meter import AUCMeter"
   ]
  },
  {
   "cell_type": "code",
   "execution_count": 2,
   "metadata": {
    "collapsed": true
   },
   "outputs": [],
   "source": [
    "def normalize(x, dim):\n",
    "    l2 = torch.norm(x, 2, dim).expand_as(x)\n",
    "    return x / l2.clamp(min = 1e-8)"
   ]
  },
  {
   "cell_type": "code",
   "execution_count": 3,
   "metadata": {
    "collapsed": true
   },
   "outputs": [],
   "source": [
    "corpus_path = \"../data_Android/corpus.tsv.gz\"\n",
    "\n",
    "corpus = dr.read_corpus(corpus_path)\n",
    "\n",
    "embedding_path = \"../data/glove.combined.300d.txt.gz\"\n",
    "embedding_tensor, word_to_indx = dr.getEmbeddingTensor(embedding_path)\n",
    "\n",
    "ids_corpus = dr.map_corpus(corpus, word_to_indx, kernel_width = 1)"
   ]
  },
  {
   "cell_type": "code",
   "execution_count": 4,
   "metadata": {
    "collapsed": true
   },
   "outputs": [],
   "source": [
    "train_corpus_path = \"../data/text_tokenized.txt.gz\"\n",
    "train_corpus = dr.read_corpus(train_corpus_path)\n",
    "train_ids_corpus = dr.map_corpus(train_corpus, word_to_indx, kernel_width = 1)\n",
    "train_path = \"../data/train_random.txt\"\n",
    "train = dr.read_annotations(train_path)\n",
    "train_ex = dr.create_train_set(train_ids_corpus, train)"
   ]
  },
  {
   "cell_type": "code",
   "execution_count": 12,
   "metadata": {
    "collapsed": true
   },
   "outputs": [],
   "source": [
    "import torch.utils.data\n",
    "\n",
    "def train_model(train_data, dev_data, model):\n",
    "    model.cuda()\n",
    "    optimizer = torch.optim.Adam(filter(lambda p: p.requires_grad, model.parameters()), lr=0.0004, weight_decay = 1e-5)\n",
    "    model.train()\n",
    "\n",
    "    lasttime = time.time()\n",
    "    for epoch in range(1, 6):\n",
    "        print(\"-------------\\nEpoch {}:\\n\".format(epoch))\n",
    "\n",
    "        loss = run_epoch(train_data, True, model, optimizer, 40)\n",
    "        #return loss\n",
    "        print('Train loss: {:.6f}'.format(loss))\n",
    "        torch.save(model, \"model{}\".format(epoch))\n",
    "        \n",
    "        AUC = run_epoch(dev_data, False, model, optimizer, 5)\n",
    "        print('Val AUC: {:.6f}'.format(AUC))\n",
    "        \n",
    "        print('This epoch took: {:.6f}'.format(time.time() - lasttime))\n",
    "        lasttime = time.time()\n",
    "\n",
    "        \n",
    "def run_epoch(data, is_training, model, optimizer, batch_size):\n",
    "    '''\n",
    "    Train model for one pass of train data, and return loss, acccuracy\n",
    "    '''\n",
    "    data_loader = torch.utils.data.DataLoader(\n",
    "        data,\n",
    "        batch_size=batch_size,\n",
    "        shuffle=True,\n",
    "        num_workers=4,\n",
    "        drop_last=False)\n",
    "\n",
    "    losses = []\n",
    "    targets = []\n",
    "    scores = []\n",
    "\n",
    "    if is_training:\n",
    "        model.train()\n",
    "    else:\n",
    "        model.eval()\n",
    "\n",
    "    for batch in data_loader:\n",
    "        pid_title = torch.unsqueeze(Variable(batch['pid_title']), 1)\n",
    "        pid_body = torch.unsqueeze(Variable(batch['pid_body']), 1)\n",
    "        rest_title = Variable(batch['rest_title'])\n",
    "        rest_body = Variable(batch['rest_body'])\n",
    "        \n",
    "        pid_title_pad = torch.unsqueeze(Variable(batch['pid_title_pad']), 1)\n",
    "        pid_body_pad = torch.unsqueeze(Variable(batch['pid_body_pad']), 1)\n",
    "        rest_title_pad = Variable(batch['rest_title_pad'])\n",
    "        rest_body_pad = Variable(batch['rest_body_pad'])\n",
    "        \n",
    "        pid_title, pid_body = pid_title.cuda(), pid_body.cuda()\n",
    "        rest_title, rest_body = rest_title.cuda(), rest_body.cuda()\n",
    "        pid_title_pad, pid_body_pad = pid_title_pad.cuda(), pid_body_pad.cuda()\n",
    "        rest_title_pad, rest_body_pad = rest_title_pad.cuda(), rest_body_pad.cuda()\n",
    "        \n",
    "        if is_training:\n",
    "            optimizer.zero_grad()\n",
    "        \n",
    "        pt = model(pid_title)\n",
    "        pb = model(pid_body)\n",
    "        rt = model(rest_title)\n",
    "        rb = model(rest_body)\n",
    "        \n",
    "        pt = normalize(pt, 2)\n",
    "        pb = normalize(pb, 2)\n",
    "        rt = normalize(rt, 2)\n",
    "        rb = normalize(rb, 2)\n",
    "        \n",
    "        # we need to take the mean pooling taking into account the padding\n",
    "        # tensors are of dim batch_size x samples x output_size x (len - kernel + 1)\n",
    "        # pad tensors are of dim batch_size x samples x (len - kernel + 1)\n",
    "        \n",
    "        pid_title_pad_ex = torch.unsqueeze(pid_title_pad, 2).expand_as(pt)\n",
    "        pid_body_pad_ex = torch.unsqueeze(pid_body_pad, 2).expand_as(pb)\n",
    "        rest_title_pad_ex = torch.unsqueeze(rest_title_pad, 2).expand_as(rt)\n",
    "        rest_body_pad_ex = torch.unsqueeze(rest_body_pad, 2).expand_as(rb)\n",
    "        \n",
    "        pt = torch.squeeze(torch.sum(pt * pid_title_pad_ex, dim = 3), dim = 3)\n",
    "        pb = torch.squeeze(torch.sum(pb * pid_body_pad_ex, dim = 3), dim = 3)\n",
    "        rt = torch.squeeze(torch.sum(rt * rest_title_pad_ex, dim = 3), dim = 3)\n",
    "        rb = torch.squeeze(torch.sum(rb * rest_body_pad_ex, dim = 3), dim = 3)\n",
    "\n",
    "        # tensors are of dim batch_size x samples x output_size\n",
    "        # need to scale down because not all uniformly padded\n",
    "        \n",
    "        ptp_norm = torch.sum(pid_title_pad, dim = 2).clamp(min = 1).expand_as(pt)\n",
    "        pbp_norm = torch.sum(pid_body_pad, dim = 2).clamp(min = 1).expand_as(pb)\n",
    "        rtp_norm = torch.sum(rest_title_pad, dim = 2).clamp(min = 1).expand_as(rt)\n",
    "        rbp_norm = torch.sum(rest_body_pad, dim = 2).clamp(min = 1).expand_as(rb)\n",
    "        \n",
    "        pt = pt / ptp_norm\n",
    "        pb = pb / pbp_norm\n",
    "        rt = rt / rtp_norm\n",
    "        rb = rb / rbp_norm\n",
    "        \n",
    "        pid_tensor = (pt + pb)/2\n",
    "        rest_tensor = (rt + rb)/2\n",
    "        \n",
    "        if is_training:\n",
    "            dropout = nn.Dropout(p = 0.2)\n",
    "            # we don't need to re-scale these on eval because its just cos sim\n",
    "            pid_tensor = dropout(pid_tensor)\n",
    "            rest_tensor = dropout(rest_tensor)\n",
    "        \n",
    "        if is_training:\n",
    "            loss = loss_function(pid_tensor, rest_tensor, margin = 1.0)\n",
    "            loss.backward()\n",
    "            losses.append(loss.cpu().data[0])\n",
    "            optimizer.step()\n",
    "        else:\n",
    "            expanded = pid_tensor.expand_as(rest_tensor)\n",
    "            similarity = cs(expanded, rest_tensor, dim=2).squeeze(2)\n",
    "            similarity = torch.FloatTensor(similarity.data.cpu().numpy())\n",
    "            labels = batch['labels']\n",
    "            \n",
    "            for sim in similarity:\n",
    "                scores.append(sim)\n",
    "            targets.extend(labels.view(-1))\n",
    "\n",
    "    # Calculate epoch level scores\n",
    "    if is_training:\n",
    "        avg_loss = np.mean(losses)\n",
    "        return avg_loss\n",
    "    else:\n",
    "        aucmeter = AUCMeter()\n",
    "        aucmeter.reset()\n",
    "        \n",
    "        output = torch.cat(scores)\n",
    "        expect = torch.LongTensor(targets)\n",
    "        aucmeter.add(output, expect)\n",
    "        return aucmeter.value(max_fpr=0.05)"
   ]
  },
  {
   "cell_type": "code",
   "execution_count": 14,
   "metadata": {
    "collapsed": true
   },
   "outputs": [],
   "source": [
    "model = LSTM(200, embedding_tensor, 0.2)"
   ]
  },
  {
   "cell_type": "code",
   "execution_count": 7,
   "metadata": {
    "collapsed": true
   },
   "outputs": [],
   "source": [
    "eval_path = \"dev.txt\"\n",
    "#eval_path = \"../data_Android/dev_android.txt\"\n",
    "eval_anno = dr.read_annotations(eval_path, K_neg = -1, prune_pos_cnt = -1, ignore_dup = True)\n",
    "eval_set = dr.create_dev_set(ids_corpus, eval_anno)"
   ]
  },
  {
   "cell_type": "code",
   "execution_count": 15,
   "metadata": {
    "scrolled": true
   },
   "outputs": [
    {
     "name": "stdout",
     "output_type": "stream",
     "text": [
      "-------------\n",
      "Epoch 1:\n",
      "\n",
      "Train loss: 0.974410\n",
      "Val AUC: 0.571640\n",
      "This epoch took: 83.784540\n",
      "-------------\n",
      "Epoch 2:\n",
      "\n",
      "Train loss: 0.886604\n",
      "Val AUC: 0.514570\n",
      "This epoch took: 83.741114\n",
      "-------------\n",
      "Epoch 3:\n",
      "\n",
      "Train loss: 0.855061\n",
      "Val AUC: 0.452410\n",
      "This epoch took: 83.678919\n",
      "-------------\n",
      "Epoch 4:\n",
      "\n",
      "Train loss: 0.834502\n",
      "Val AUC: 0.449905\n",
      "This epoch took: 83.714002\n",
      "-------------\n",
      "Epoch 5:\n",
      "\n",
      "Train loss: 0.818789\n",
      "Val AUC: 0.398659\n",
      "This epoch took: 83.300801\n"
     ]
    }
   ],
   "source": [
    "z = train_model(train_ex, eval_set, model)"
   ]
  },
  {
   "cell_type": "code",
   "execution_count": 16,
   "metadata": {
    "scrolled": true
   },
   "outputs": [
    {
     "name": "stdout",
     "output_type": "stream",
     "text": [
      "0.571640578265\n"
     ]
    }
   ],
   "source": [
    "model = torch.load(\"model1\")\n",
    "z = run_epoch(eval_set, False, model, None, 5)\n",
    "print(z)"
   ]
  },
  {
   "cell_type": "code",
   "execution_count": 17,
   "metadata": {},
   "outputs": [
    {
     "name": "stdout",
     "output_type": "stream",
     "text": [
      "0.564662464711\n"
     ]
    }
   ],
   "source": [
    "model = torch.load(\"model1\")\n",
    "eval_path = \"test.txt\"\n",
    "eval_anno = dr.read_annotations(eval_path, K_neg = -1, prune_pos_cnt = -1, ignore_dup = True)\n",
    "eval_set = dr.create_dev_set(ids_corpus, eval_anno)\n",
    "\n",
    "z = run_epoch(eval_set, False, model, None, 5)\n",
    "print(z)"
   ]
  },
  {
   "cell_type": "code",
   "execution_count": 11,
   "metadata": {
    "collapsed": true
   },
   "outputs": [],
   "source": [
    "out = dr.build_android_qsets(\"../data_Android/test.pos.txt\", \"../data_Android/test.neg.txt\")"
   ]
  },
  {
   "cell_type": "code",
   "execution_count": 12,
   "metadata": {
    "collapsed": true
   },
   "outputs": [],
   "source": [
    "qIDs, qCandidates, labels = out"
   ]
  },
  {
   "cell_type": "code",
   "execution_count": 13,
   "metadata": {
    "collapsed": true
   },
   "outputs": [],
   "source": [
    "f = open(\"test.txt\", \"w\")\n",
    "\n",
    "for qid in qIDs:\n",
    "    l = len(labels[qid])\n",
    "    if l == 101:\n",
    "        qPos = [qCandidates[qid][0]]\n",
    "        qNeg = qCandidates[qid][1:]\n",
    "    else:\n",
    "        qPos = qCandidates[qid][0:2]\n",
    "        qNeg = qCandidates[qid][2:]\n",
    "    for i in range(len(qPos)):\n",
    "        line = qid + \"\\t\" + qPos[i] + \"\\t\" + \" \".join(qNeg[100 * i: 100 * i + 100]) + \"\\n\"\n",
    "        f.write(line)\n",
    "        \n",
    "f.close()"
   ]
  }
 ],
 "metadata": {
  "kernelspec": {
   "display_name": "Python 3",
   "language": "python",
   "name": "python3"
  },
  "language_info": {
   "codemirror_mode": {
    "name": "ipython",
    "version": 3
   },
   "file_extension": ".py",
   "mimetype": "text/x-python",
   "name": "python",
   "nbconvert_exporter": "python",
   "pygments_lexer": "ipython3",
   "version": "3.6.2"
  }
 },
 "nbformat": 4,
 "nbformat_minor": 2
}
