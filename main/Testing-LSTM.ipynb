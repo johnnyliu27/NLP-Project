{
 "cells": [
  {
   "cell_type": "code",
   "execution_count": 1,
   "metadata": {
    "collapsed": true
   },
   "outputs": [],
   "source": [
    "import sys\n",
    "sys.path.append(\"../src/\")\n",
    "from loss_function import loss_function\n",
    "from loss_function import cs\n",
    "from torch.autograd import Variable\n",
    "from evaluate import Evaluation\n",
    "from lstm import LSTM\n",
    "import torch\n",
    "import torch.nn as nn\n",
    "import torch.nn.functional as F\n",
    "import numpy as np\n",
    "import sklearn\n",
    "import random\n",
    "import time"
   ]
  },
  {
   "cell_type": "code",
   "execution_count": 2,
   "metadata": {
    "collapsed": true
   },
   "outputs": [],
   "source": [
    "import data_reader as dr"
   ]
  },
  {
   "cell_type": "code",
   "execution_count": 3,
   "metadata": {
    "collapsed": true
   },
   "outputs": [],
   "source": [
    "corpus_path = \"../data/text_tokenized.txt.gz\"\n",
    "corpus = dr.read_corpus(corpus_path)"
   ]
  },
  {
   "cell_type": "code",
   "execution_count": 4,
   "metadata": {
    "collapsed": true
   },
   "outputs": [],
   "source": [
    "embedding_path = \"../data/vectors_pruned.200.txt.gz\"\n",
    "embedding_tensor, word_to_indx = dr.getEmbeddingTensor(embedding_path)"
   ]
  },
  {
   "cell_type": "code",
   "execution_count": 5,
   "metadata": {
    "collapsed": true
   },
   "outputs": [],
   "source": [
    "ids_corpus = dr.map_corpus(corpus, word_to_indx, kernel_width = 1)"
   ]
  },
  {
   "cell_type": "code",
   "execution_count": 6,
   "metadata": {
    "collapsed": true
   },
   "outputs": [],
   "source": [
    "train_path = \"../data/train_random.txt\"\n",
    "train = dr.read_annotations(train_path)"
   ]
  },
  {
   "cell_type": "code",
   "execution_count": 7,
   "metadata": {
    "collapsed": true
   },
   "outputs": [],
   "source": [
    "train_ex = dr.create_train_set(ids_corpus, train)"
   ]
  },
  {
   "cell_type": "code",
   "execution_count": 37,
   "metadata": {
    "collapsed": true
   },
   "outputs": [],
   "source": [
    "import torch.utils.data\n",
    "\n",
    "def train_model(train_data, dev_data, model):\n",
    "    model.cuda()\n",
    "    optimizer = torch.optim.Adam(model.parameters(), lr=0.001, weight_decay = 1e-5)\n",
    "    model.train()\n",
    "\n",
    "    lasttime = time.time()\n",
    "    for epoch in range(1, 31):\n",
    "        print(\"-------------\\nEpoch {}:\\n\".format(epoch))\n",
    "\n",
    "        loss = run_epoch(train_data, True, model, optimizer)\n",
    "        #return loss\n",
    "        print('Train loss: {:.6f}'.format(loss))\n",
    "        torch.save(model, \"model{}\".format(30 + epoch))\n",
    "        \n",
    "        (MAP, MRR, P1, P5) = run_epoch(dev_data, False, model, optimizer)\n",
    "        print('Val MAP: {:.6f}, MRR: {:.6f}, P1: {:.6f}, P5: {:.6f}'.format(MAP, MRR, P1, P5))\n",
    "        \n",
    "        print('This epoch took: {:.6f}'.format(time.time() - lasttime))\n",
    "        lasttime = time.time()\n",
    "\n",
    "        \n",
    "def run_epoch(data, is_training, model, optimizer):\n",
    "    '''\n",
    "    Train model for one pass of train data, and return loss, acccuracy\n",
    "    '''\n",
    "    data_loader = torch.utils.data.DataLoader(\n",
    "        data,\n",
    "        batch_size=40,\n",
    "        shuffle=True,\n",
    "        num_workers=4,\n",
    "        drop_last=False)\n",
    "\n",
    "    losses = []\n",
    "\n",
    "    if is_training:\n",
    "        model.train()\n",
    "    else:\n",
    "        model.eval()\n",
    "\n",
    "    for batch in data_loader:\n",
    "        pid_title = torch.unsqueeze(Variable(batch['pid_title']), 1)\n",
    "        pid_body = torch.unsqueeze(Variable(batch['pid_body']), 1)\n",
    "        rest_title = Variable(batch['rest_title'])\n",
    "        rest_body = Variable(batch['rest_body'])\n",
    "        \n",
    "        pid_title_pad = torch.unsqueeze(Variable(batch['pid_title_pad']), 1)\n",
    "        pid_body_pad = torch.unsqueeze(Variable(batch['pid_body_pad']), 1)\n",
    "        rest_title_pad = Variable(batch['rest_title_pad'])\n",
    "        rest_body_pad = Variable(batch['rest_body_pad'])\n",
    "        \n",
    "        pid_title, pid_body = pid_title.cuda(), pid_body.cuda()\n",
    "        rest_title, rest_body = rest_title.cuda(), rest_body.cuda()\n",
    "        pid_title_pad, pid_body_pad = pid_title_pad.cuda(), pid_body_pad.cuda()\n",
    "        rest_title_pad, rest_body_pad = rest_title_pad.cuda(), rest_body_pad.cuda()\n",
    "        \n",
    "        if is_training:\n",
    "            optimizer.zero_grad()\n",
    "        \n",
    "        pt = model(pid_title)\n",
    "        pb = model(pid_body)\n",
    "        rt = model(rest_title)\n",
    "        rb = model(rest_body)\n",
    "        \n",
    "        pt = normalize(pt, 2)\n",
    "        pb = normalize(pb, 2)\n",
    "        rt = normalize(rt, 2)\n",
    "        rb = normalize(rb, 2)\n",
    "        \n",
    "        # we need to take the mean pooling taking into account the padding\n",
    "        # tensors are of dim batch_size x samples x output_size x (len - kernel + 1)\n",
    "        # pad tensors are of dim batch_size x samples x (len - kernel + 1)\n",
    "        \n",
    "        pid_title_pad_ex = torch.unsqueeze(pid_title_pad, 2).expand_as(pt)\n",
    "        pid_body_pad_ex = torch.unsqueeze(pid_body_pad, 2).expand_as(pb)\n",
    "        rest_title_pad_ex = torch.unsqueeze(rest_title_pad, 2).expand_as(rt)\n",
    "        rest_body_pad_ex = torch.unsqueeze(rest_body_pad, 2).expand_as(rb)\n",
    "        \n",
    "        pt = torch.squeeze(torch.sum(pt * pid_title_pad_ex, dim = 3), dim = 3)\n",
    "        pb = torch.squeeze(torch.sum(pb * pid_body_pad_ex, dim = 3), dim = 3)\n",
    "        rt = torch.squeeze(torch.sum(rt * rest_title_pad_ex, dim = 3), dim = 3)\n",
    "        rb = torch.squeeze(torch.sum(rb * rest_body_pad_ex, dim = 3), dim = 3)\n",
    "\n",
    "        # tensors are not of dim batch_size x samples x output_size\n",
    "        # need to scale down because not all uniformly padded\n",
    "        \n",
    "        ptp_norm = torch.sum(pid_title_pad, dim = 2).clamp(min = 1).expand_as(pt)\n",
    "        pbp_norm = torch.sum(pid_body_pad, dim = 2).clamp(min = 1).expand_as(pb)\n",
    "        rtp_norm = torch.sum(rest_title_pad, dim = 2).clamp(min = 1).expand_as(rt)\n",
    "        rbp_norm = torch.sum(rest_body_pad, dim = 2).clamp(min = 1).expand_as(rb)\n",
    "        \n",
    "        pt = pt / ptp_norm\n",
    "        pb = pb / pbp_norm\n",
    "        rt = rt / rtp_norm\n",
    "        rb = rb / rbp_norm\n",
    "        \n",
    "        pid_tensor = (pt + pb)/2\n",
    "        rest_tensor = (rt + rb)/2\n",
    "        \n",
    "        if is_training:\n",
    "            dropout = nn.Dropout(p = 0.2)\n",
    "            # we don't need to re-scale these on eval because its just cos sim\n",
    "            pid_tensor = dropout(pid_tensor)\n",
    "            rest_tensor = dropout(rest_tensor)\n",
    "        \n",
    "        if is_training:\n",
    "            loss = loss_function(pid_tensor, rest_tensor, margin = 1.0)\n",
    "            loss.backward()\n",
    "            losses.append(loss.cpu().data[0])\n",
    "            optimizer.step()\n",
    "        else:\n",
    "            expanded = pid_tensor.expand_as(rest_tensor)\n",
    "            similarity = cs(expanded, rest_tensor, dim=2).squeeze(2)\n",
    "            similarity = similarity.data.cpu().numpy()\n",
    "            #return similarity\n",
    "            labels = batch['labels'].numpy()\n",
    "            l = dr.convert(similarity, labels)\n",
    "            losses.extend(l)\n",
    "\n",
    "    # Calculate epoch level scores\n",
    "    if is_training:\n",
    "        avg_loss = np.mean(losses)\n",
    "        return avg_loss\n",
    "    else:\n",
    "        e = Evaluation(losses)\n",
    "        MAP = e.MAP()*100\n",
    "        MRR = e.MRR()*100\n",
    "        P1 = e.Precision(1)*100\n",
    "        P5 = e.Precision(5)*100\n",
    "        return (MAP, MRR, P1, P5)"
   ]
  },
  {
   "cell_type": "code",
   "execution_count": 38,
   "metadata": {},
   "outputs": [],
   "source": [
    "model = LSTM(310, embedding_tensor, 0.2)"
   ]
  },
  {
   "cell_type": "code",
   "execution_count": 39,
   "metadata": {
    "collapsed": true
   },
   "outputs": [],
   "source": [
    "val_path = \"../data/test.txt\"\n",
    "val = dr.read_annotations(val_path, K_neg = -1, prune_pos_cnt = -1)\n",
    "val_ex = dr.create_dev_set(ids_corpus, val)"
   ]
  },
  {
   "cell_type": "code",
   "execution_count": null,
   "metadata": {
    "scrolled": true
   },
   "outputs": [],
   "source": [
    "z = train_model(train_ex, val_ex, model)"
   ]
  },
  {
   "cell_type": "code",
   "execution_count": 27,
   "metadata": {},
   "outputs": [],
   "source": [
    "model = torch.load(\"model40\")\n",
    "real_val_path = \"../data/dev.txt\"\n",
    "real_val = dr.read_annotations(real_val_path, K_neg = -1, prune_pos_cnt = -1)\n",
    "real_val_ex = dr.create_dev_set(ids_corpus, real_val)\n",
    "model = model.cuda()\n",
    "z = run_epoch(real_val_ex, False, model, None)"
   ]
  },
  {
   "cell_type": "code",
   "execution_count": 28,
   "metadata": {},
   "outputs": [
    {
     "name": "stdout",
     "output_type": "stream",
     "text": [
      "(51.1562037379168, 62.27780000889243, 44.97354497354497, 40.95238095238096)\n"
     ]
    }
   ],
   "source": [
    "print(z)"
   ]
  },
  {
   "cell_type": "code",
   "execution_count": 14,
   "metadata": {},
   "outputs": [],
   "source": [
    "model = model.cuda()\n",
    "z = run_epoch(val_ex, False, model, None)"
   ]
  },
  {
   "cell_type": "code",
   "execution_count": 15,
   "metadata": {},
   "outputs": [
    {
     "name": "stdout",
     "output_type": "stream",
     "text": [
      "(52.91403092863726, 67.84170771599614, 53.76344086021505, 41.075268817204325)\n"
     ]
    }
   ],
   "source": [
    "print(z)"
   ]
  },
  {
   "cell_type": "code",
   "execution_count": 33,
   "metadata": {},
   "outputs": [
    {
     "name": "stdout",
     "output_type": "stream",
     "text": [
      "torch.Size([100408, 201])\n",
      "torch.Size([620, 201])\n",
      "torch.Size([620, 155])\n",
      "torch.Size([620])\n",
      "torch.Size([620])\n",
      "torch.Size([620, 201])\n",
      "torch.Size([620, 155])\n",
      "torch.Size([620])\n",
      "torch.Size([620])\n",
      "443920\n"
     ]
    }
   ],
   "source": [
    "t = 0\n",
    "for i in model.parameters():\n",
    "    print(i.size())\n",
    "    if len(i.size()) == 1:\n",
    "        t += i.size()[0]\n",
    "    else:\n",
    "        if i.size()[0] != 100408:\n",
    "            t += i.size()[0] * i.size()[1]\n",
    "print(t)"
   ]
  },
  {
   "cell_type": "code",
   "execution_count": 9,
   "metadata": {
    "collapsed": true
   },
   "outputs": [],
   "source": [
    "def normalize(x, dim):\n",
    "    l2 = torch.norm(x, 2, dim).expand_as(x)\n",
    "    return x / l2.clamp(min = 1e-8)\n",
    "\n",
    "def mean_pool_pad(x, mask):\n",
    "    mask "
   ]
  },
  {
   "cell_type": "code",
   "execution_count": 30,
   "metadata": {},
   "outputs": [
    {
     "name": "stdout",
     "output_type": "stream",
     "text": [
      "(0, (42.37619878987305, 53.283766443504035, 35.978835978835974, 34.70899470899471))\n",
      "(1, (45.22990586203595, 55.329089061889235, 38.095238095238095, 35.238095238095255))\n",
      "(2, (48.85533094194322, 59.45116287903402, 42.32804232804233, 38.20105820105824))\n",
      "(3, (49.706145216776115, 60.57115963339855, 43.91534391534391, 38.73015873015875))\n",
      "(4, (48.99226053091319, 57.970810054143385, 38.095238095238095, 38.41269841269844))\n",
      "(5, (50.263996342773574, 58.759211834608664, 40.74074074074074, 39.78835978835982))\n",
      "(6, (50.99273366028096, 60.007872731102374, 42.857142857142854, 40.31746031746036))\n",
      "(7, (49.590223722830004, 58.149638156948114, 38.095238095238095, 39.894179894179906))\n",
      "(9, (51.15620373791676, 62.277800008892456, 44.97354497354497, 40.952380952381006))\n",
      "(10, (51.40831691010621, 63.14382456772746, 46.03174603174603, 40.84656084656088))\n",
      "(11, (50.81305455611835, 60.95742587806079, 42.857142857142854, 40.95238095238097))\n",
      "(12, (49.615610380874244, 58.85543368417221, 40.21164021164021, 40.952380952381))\n",
      "(13, (50.176677529489325, 59.83354771317323, 41.7989417989418, 40.42328042328045))\n",
      "(14, (50.84431323805857, 60.481880181926876, 43.386243386243386, 40.31746031746036))\n",
      "(15, (50.371457534299246, 58.35892208908082, 39.682539682539684, 41.164021164021186))\n",
      "(16, (51.88999092400734, 62.00183185594015, 44.97354497354497, 41.587301587301624))\n",
      "(17, (49.72910075205873, 58.24026246676009, 40.21164021164021, 39.47089947089949))\n",
      "(18, (50.29396118292833, 58.96187115958359, 40.74074074074074, 39.788359788359806))\n",
      "(19, (50.67110353851748, 59.04855255578878, 41.269841269841265, 39.57671957671958))\n"
     ]
    }
   ],
   "source": [
    "for i in range(20):\n",
    "    if i != 8:\n",
    "        model = torch.load(\"model\" + str(i + 31))\n",
    "        real_val_path = \"../data/dev.txt\"\n",
    "        real_val = dr.read_annotations(real_val_path, K_neg = -1, prune_pos_cnt = -1)\n",
    "        real_val_ex = dr.create_dev_set(ids_corpus, real_val)\n",
    "        model = model.cuda()\n",
    "        z = run_epoch(real_val_ex, False, model, None)\n",
    "        print((i, z))"
   ]
  },
  {
   "cell_type": "code",
   "execution_count": null,
   "metadata": {
    "collapsed": true
   },
   "outputs": [],
   "source": []
  }
 ],
 "metadata": {
  "kernelspec": {
   "display_name": "Python 3",
   "language": "python",
   "name": "python3"
  },
  "language_info": {
   "codemirror_mode": {
    "name": "ipython",
    "version": 3
   },
   "file_extension": ".py",
   "mimetype": "text/x-python",
   "name": "python",
   "nbconvert_exporter": "python",
   "pygments_lexer": "ipython3",
   "version": "3.6.2"
  }
 },
 "nbformat": 4,
 "nbformat_minor": 2
}
