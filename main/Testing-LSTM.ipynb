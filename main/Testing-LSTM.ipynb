{
 "cells": [
  {
   "cell_type": "code",
   "execution_count": 1,
   "metadata": {
    "collapsed": true
   },
   "outputs": [],
   "source": [
    "import sys\n",
    "sys.path.append(\"../src/\")\n",
    "from loss_function import loss_function\n",
    "from loss_function import cs\n",
    "from torch.autograd import Variable\n",
    "from evaluate import Evaluation\n",
    "from lstm import LSTM\n",
    "import torch\n",
    "import torch.nn as nn\n",
    "import torch.nn.functional as F\n",
    "import numpy as np\n",
    "import sklearn\n",
    "import random\n",
    "import time"
   ]
  },
  {
   "cell_type": "code",
   "execution_count": 2,
   "metadata": {
    "collapsed": true
   },
   "outputs": [],
   "source": [
    "import data_reader as dr"
   ]
  },
  {
   "cell_type": "code",
   "execution_count": 3,
   "metadata": {
    "collapsed": true
   },
   "outputs": [],
   "source": [
    "corpus_path = \"../data/text_tokenized.txt.gz\"\n",
    "corpus = dr.read_corpus(corpus_path)"
   ]
  },
  {
   "cell_type": "code",
   "execution_count": 4,
   "metadata": {
    "collapsed": true
   },
   "outputs": [],
   "source": [
    "embedding_path = \"../data/vectors_pruned.200.txt.gz\"\n",
    "embedding_tensor, word_to_indx = dr.getEmbeddingTensor(embedding_path)"
   ]
  },
  {
   "cell_type": "code",
   "execution_count": 5,
   "metadata": {
    "collapsed": true
   },
   "outputs": [],
   "source": [
    "ids_corpus = dr.map_corpus(corpus, word_to_indx, kernel_width = 1)"
   ]
  },
  {
   "cell_type": "code",
   "execution_count": 6,
   "metadata": {
    "collapsed": true
   },
   "outputs": [],
   "source": [
    "train_path = \"../data/train_random.txt\"\n",
    "train = dr.read_annotations(train_path)"
   ]
  },
  {
   "cell_type": "code",
   "execution_count": 7,
   "metadata": {
    "collapsed": true
   },
   "outputs": [],
   "source": [
    "train_ex = dr.create_train_set(ids_corpus, train)"
   ]
  },
  {
   "cell_type": "code",
   "execution_count": 8,
   "metadata": {
    "collapsed": true
   },
   "outputs": [],
   "source": [
    "def normalize(x, dim):\n",
    "    l2 = torch.norm(x, 2, dim).expand_as(x)\n",
    "    return x / l2.clamp(min = 1e-8)"
   ]
  },
  {
   "cell_type": "code",
   "execution_count": 11,
   "metadata": {
    "collapsed": true
   },
   "outputs": [],
   "source": [
    "import torch.utils.data\n",
    "\n",
    "def train_model(train_data, dev_data, model):\n",
    "    model.cuda()\n",
    "    optimizer = torch.optim.Adam(filter(lambda p: p.requires_grad, model.parameters()), lr=0.0003, weight_decay = 1e-5)\n",
    "    model.train()\n",
    "\n",
    "    lasttime = time.time()\n",
    "    for epoch in range(1, 11):\n",
    "        print(\"-------------\\nEpoch {}:\\n\".format(epoch))\n",
    "\n",
    "        loss = run_epoch(train_data, True, model, optimizer)\n",
    "        #return loss\n",
    "        print('Train loss: {:.6f}'.format(loss))\n",
    "        torch.save(model, \"model{}\".format(epoch))\n",
    "        \n",
    "        (MAP, MRR, P1, P5) = run_epoch(dev_data, False, model, optimizer)\n",
    "        print('Val MAP: {:.6f}, MRR: {:.6f}, P1: {:.6f}, P5: {:.6f}'.format(MAP, MRR, P1, P5))\n",
    "        \n",
    "        print('This epoch took: {:.6f}'.format(time.time() - lasttime))\n",
    "        lasttime = time.time()\n",
    "\n",
    "        \n",
    "def run_epoch(data, is_training, model, optimizer):\n",
    "    '''\n",
    "    Train model for one pass of train data, and return loss, acccuracy\n",
    "    '''\n",
    "    data_loader = torch.utils.data.DataLoader(\n",
    "        data,\n",
    "        batch_size=40,\n",
    "        shuffle=True,\n",
    "        num_workers=4,\n",
    "        drop_last=False)\n",
    "\n",
    "    losses = []\n",
    "\n",
    "    if is_training:\n",
    "        model.train()\n",
    "    else:\n",
    "        model.eval()\n",
    "\n",
    "    for batch in data_loader:\n",
    "        pid_title = torch.unsqueeze(Variable(batch['pid_title']), 1)\n",
    "        pid_body = torch.unsqueeze(Variable(batch['pid_body']), 1)\n",
    "        rest_title = Variable(batch['rest_title'])\n",
    "        rest_body = Variable(batch['rest_body'])\n",
    "        \n",
    "        pid_title_pad = torch.unsqueeze(Variable(batch['pid_title_pad']), 1)\n",
    "        pid_body_pad = torch.unsqueeze(Variable(batch['pid_body_pad']), 1)\n",
    "        rest_title_pad = Variable(batch['rest_title_pad'])\n",
    "        rest_body_pad = Variable(batch['rest_body_pad'])\n",
    "        \n",
    "        pid_title, pid_body = pid_title.cuda(), pid_body.cuda()\n",
    "        rest_title, rest_body = rest_title.cuda(), rest_body.cuda()\n",
    "        pid_title_pad, pid_body_pad = pid_title_pad.cuda(), pid_body_pad.cuda()\n",
    "        rest_title_pad, rest_body_pad = rest_title_pad.cuda(), rest_body_pad.cuda()\n",
    "        \n",
    "        if is_training:\n",
    "            optimizer.zero_grad()\n",
    "        \n",
    "        pt = model(pid_title)\n",
    "        pb = model(pid_body)\n",
    "        rt = model(rest_title)\n",
    "        rb = model(rest_body)\n",
    "        \n",
    "        pt = normalize(pt, 2)\n",
    "        pb = normalize(pb, 2)\n",
    "        rt = normalize(rt, 2)\n",
    "        rb = normalize(rb, 2)\n",
    "        \n",
    "        # we need to take the mean pooling taking into account the padding\n",
    "        # tensors are of dim batch_size x samples x output_size x (len - kernel + 1)\n",
    "        # pad tensors are of dim batch_size x samples x (len - kernel + 1)\n",
    "        \n",
    "        pid_title_pad_ex = torch.unsqueeze(pid_title_pad, 2).expand_as(pt)\n",
    "        pid_body_pad_ex = torch.unsqueeze(pid_body_pad, 2).expand_as(pb)\n",
    "        rest_title_pad_ex = torch.unsqueeze(rest_title_pad, 2).expand_as(rt)\n",
    "        rest_body_pad_ex = torch.unsqueeze(rest_body_pad, 2).expand_as(rb)\n",
    "        \n",
    "        pt = torch.squeeze(torch.sum(pt * pid_title_pad_ex, dim = 3), dim = 3)\n",
    "        pb = torch.squeeze(torch.sum(pb * pid_body_pad_ex, dim = 3), dim = 3)\n",
    "        rt = torch.squeeze(torch.sum(rt * rest_title_pad_ex, dim = 3), dim = 3)\n",
    "        rb = torch.squeeze(torch.sum(rb * rest_body_pad_ex, dim = 3), dim = 3)\n",
    "\n",
    "        # tensors are of dim batch_size x samples x output_size\n",
    "        # need to scale down because not all uniformly padded\n",
    "        \n",
    "        ptp_norm = torch.sum(pid_title_pad, dim = 2).clamp(min = 1).expand_as(pt)\n",
    "        pbp_norm = torch.sum(pid_body_pad, dim = 2).clamp(min = 1).expand_as(pb)\n",
    "        rtp_norm = torch.sum(rest_title_pad, dim = 2).clamp(min = 1).expand_as(rt)\n",
    "        rbp_norm = torch.sum(rest_body_pad, dim = 2).clamp(min = 1).expand_as(rb)\n",
    "        \n",
    "        pt = pt / ptp_norm\n",
    "        pb = pb / pbp_norm\n",
    "        rt = rt / rtp_norm\n",
    "        rb = rb / rbp_norm\n",
    "        \n",
    "        pid_tensor = (pt + pb)/2\n",
    "        rest_tensor = (rt + rb)/2\n",
    "        \n",
    "        if is_training:\n",
    "            dropout = nn.Dropout(p = 0.2)\n",
    "            # we don't need to re-scale these on eval because its just cos sim\n",
    "            pid_tensor = dropout(pid_tensor)\n",
    "            rest_tensor = dropout(rest_tensor)\n",
    "        \n",
    "        if is_training:\n",
    "            loss = loss_function(pid_tensor, rest_tensor, margin = 1.0)\n",
    "            loss.backward()\n",
    "            losses.append(loss.cpu().data[0])\n",
    "            optimizer.step()\n",
    "        else:\n",
    "            expanded = pid_tensor.expand_as(rest_tensor)\n",
    "            similarity = cs(expanded, rest_tensor, dim=2).squeeze(2)\n",
    "            similarity = similarity.data.cpu().numpy()\n",
    "            #return similarity\n",
    "            labels = batch['labels'].numpy()\n",
    "            l = dr.convert(similarity, labels)\n",
    "            losses.extend(l)\n",
    "\n",
    "    # Calculate epoch level scores\n",
    "    if is_training:\n",
    "        avg_loss = np.mean(losses)\n",
    "        return avg_loss\n",
    "    else:\n",
    "        e = Evaluation(losses)\n",
    "        MAP = e.MAP()*100\n",
    "        MRR = e.MRR()*100\n",
    "        P1 = e.Precision(1)*100\n",
    "        P5 = e.Precision(5)*100\n",
    "        return (MAP, MRR, P1, P5)"
   ]
  },
  {
   "cell_type": "code",
   "execution_count": 12,
   "metadata": {
    "collapsed": true
   },
   "outputs": [],
   "source": [
    "model = LSTM(310, embedding_tensor, 0.2)"
   ]
  },
  {
   "cell_type": "code",
   "execution_count": 13,
   "metadata": {
    "collapsed": true
   },
   "outputs": [],
   "source": [
    "val_path = \"../data/dev.txt\"\n",
    "val = dr.read_annotations(val_path, K_neg = -1, prune_pos_cnt = -1)\n",
    "val_ex = dr.create_dev_set(ids_corpus, val)"
   ]
  },
  {
   "cell_type": "code",
   "execution_count": 14,
   "metadata": {},
   "outputs": [
    {
     "name": "stdout",
     "output_type": "stream",
     "text": [
      "-------------\n",
      "Epoch 1:\n",
      "\n",
      "Train loss: 1.021194\n",
      "Val MAP: 50.556219, MRR: 62.686402, P1: 49.206349, P5: 41.058201\n",
      "This epoch took: 100.651429\n",
      "-------------\n",
      "Epoch 2:\n",
      "\n",
      "Train loss: 0.951551\n",
      "Val MAP: 54.677259, MRR: 66.116990, P1: 52.380952, P5: 43.597884\n",
      "This epoch took: 100.108730\n",
      "-------------\n",
      "Epoch 3:\n",
      "\n",
      "Train loss: 0.907675\n",
      "Val MAP: 54.822690, MRR: 67.573342, P1: 54.497354, P5: 43.068783\n",
      "This epoch took: 98.035828\n",
      "-------------\n",
      "Epoch 4:\n",
      "\n",
      "Train loss: 0.889985\n",
      "Val MAP: 55.364708, MRR: 68.884833, P1: 57.142857, P5: 44.656085\n",
      "This epoch took: 98.060693\n",
      "-------------\n",
      "Epoch 5:\n",
      "\n",
      "Train loss: 0.882005\n",
      "Val MAP: 55.777860, MRR: 68.695958, P1: 55.555556, P5: 44.550265\n",
      "This epoch took: 97.912830\n",
      "-------------\n",
      "Epoch 6:\n",
      "\n",
      "Train loss: 0.873461\n",
      "Val MAP: 55.848841, MRR: 69.110827, P1: 57.142857, P5: 44.338624\n",
      "This epoch took: 97.958396\n",
      "-------------\n",
      "Epoch 7:\n",
      "\n",
      "Train loss: 0.868064\n",
      "Val MAP: 57.159214, MRR: 70.298158, P1: 58.730159, P5: 46.137566\n",
      "This epoch took: 97.929060\n",
      "-------------\n",
      "Epoch 8:\n",
      "\n",
      "Train loss: 0.863279\n",
      "Val MAP: 56.878197, MRR: 69.522742, P1: 55.555556, P5: 45.608466\n",
      "This epoch took: 97.928127\n",
      "-------------\n",
      "Epoch 9:\n",
      "\n",
      "Train loss: 0.857650\n",
      "Val MAP: 56.988644, MRR: 71.039392, P1: 58.730159, P5: 44.867725\n",
      "This epoch took: 98.215775\n",
      "-------------\n",
      "Epoch 10:\n",
      "\n",
      "Train loss: 0.852851\n",
      "Val MAP: 56.634148, MRR: 69.469553, P1: 56.084656, P5: 45.925926\n",
      "This epoch took: 98.051952\n"
     ]
    }
   ],
   "source": [
    "z = train_model(train_ex, val_ex, model)"
   ]
  },
  {
   "cell_type": "code",
   "execution_count": 21,
   "metadata": {
    "collapsed": true
   },
   "outputs": [],
   "source": [
    "model = torch.load(\"model4\")\n",
    "real_val_path = \"../data/test.txt\"\n",
    "real_val = dr.read_annotations(real_val_path, K_neg = -1, prune_pos_cnt = -1)\n",
    "real_val_ex = dr.create_dev_set(ids_corpus, real_val)\n",
    "model = model.cuda()\n",
    "z = run_epoch(real_val_ex, False, model, None)"
   ]
  },
  {
   "cell_type": "code",
   "execution_count": 22,
   "metadata": {},
   "outputs": [
    {
     "name": "stdout",
     "output_type": "stream",
     "text": [
      "(57.49701865047421, 71.24889516524142, 57.52688172043011, 43.01075268817206)\n"
     ]
    }
   ],
   "source": [
    "print(z)"
   ]
  },
  {
   "cell_type": "code",
   "execution_count": 23,
   "metadata": {},
   "outputs": [
    {
     "name": "stdout",
     "output_type": "stream",
     "text": [
      "443920\n"
     ]
    }
   ],
   "source": [
    "tot = 0\n",
    "for s in filter(lambda p: p.requires_grad, model.parameters()):\n",
    "    tot += np.prod(s.size())\n",
    "print(tot)"
   ]
  },
  {
   "cell_type": "code",
   "execution_count": null,
   "metadata": {
    "collapsed": true
   },
   "outputs": [],
   "source": []
  }
 ],
 "metadata": {
  "kernelspec": {
   "display_name": "Python 3",
   "language": "python",
   "name": "python3"
  },
  "language_info": {
   "codemirror_mode": {
    "name": "ipython",
    "version": 3
   },
   "file_extension": ".py",
   "mimetype": "text/x-python",
   "name": "python",
   "nbconvert_exporter": "python",
   "pygments_lexer": "ipython3",
   "version": "3.6.2"
  }
 },
 "nbformat": 4,
 "nbformat_minor": 2
}
